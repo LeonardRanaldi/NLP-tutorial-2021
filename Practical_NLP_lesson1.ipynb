{
  "nbformat": 4,
  "nbformat_minor": 0,
  "metadata": {
    "colab": {
      "name": "Practical NLP lesson1.ipynb",
      "provenance": [],
      "collapsed_sections": []
    },
    "kernelspec": {
      "name": "python3",
      "display_name": "Python 3"
    },
    "language_info": {
      "name": "python"
    }
  },
  "cells": [
    {
      "cell_type": "markdown",
      "metadata": {
        "id": "Shamp3fegLeQ"
      },
      "source": [
        "**Practical NLP** *Settimana 1*\n",
        "\n",
        "\n",
        "\n",
        "---\n",
        "\n",
        "\n",
        "\n",
        "*   Google Colab\n",
        "  *  Cosa è? \n",
        "  *  Come funziona?\n",
        "\n",
        "\n",
        "\n",
        "---\n",
        "\n",
        "\n"
      ]
    },
    {
      "cell_type": "markdown",
      "metadata": {
        "id": "EnNhMsmMmGIb"
      },
      "source": [
        "# Librerie Utili\n",
        "\n",
        "\n",
        "\n",
        "\n",
        "*   **Web Scraping:** BeautifulSoup, urllib3\n",
        "*   **Data Analysis:** Pandas\n",
        "*   **Data Analysis:** Matplotlib\n",
        "*   **Language Analysis /& Manipulation:** Natural Language Toolkit (NLTK)\n",
        "\n"
      ]
    },
    {
      "cell_type": "code",
      "metadata": {
        "colab": {
          "base_uri": "https://localhost:8080/"
        },
        "id": "C5uUNlckDM6K",
        "outputId": "fccb1b92-9085-45d1-cd7b-d7052b5c9a88"
      },
      "source": [
        "!pip install beautifulsoup4\n",
        "!pip install urllib3\n",
        "!pip install pandas\n",
        "!pip install matplotlib\n",
        "!pip install nltk"
      ],
      "execution_count": null,
      "outputs": [
        {
          "output_type": "stream",
          "name": "stdout",
          "text": [
            "Requirement already satisfied: beautifulsoup4 in /usr/local/lib/python3.7/dist-packages (4.6.3)\n",
            "Requirement already satisfied: urllib3 in /usr/local/lib/python3.7/dist-packages (1.24.3)\n",
            "Requirement already satisfied: pandas in /usr/local/lib/python3.7/dist-packages (1.1.5)\n",
            "Requirement already satisfied: numpy>=1.15.4 in /usr/local/lib/python3.7/dist-packages (from pandas) (1.19.5)\n",
            "Requirement already satisfied: pytz>=2017.2 in /usr/local/lib/python3.7/dist-packages (from pandas) (2018.9)\n",
            "Requirement already satisfied: python-dateutil>=2.7.3 in /usr/local/lib/python3.7/dist-packages (from pandas) (2.8.2)\n",
            "Requirement already satisfied: six>=1.5 in /usr/local/lib/python3.7/dist-packages (from python-dateutil>=2.7.3->pandas) (1.15.0)\n",
            "Requirement already satisfied: matplotlib in /usr/local/lib/python3.7/dist-packages (3.2.2)\n",
            "Requirement already satisfied: cycler>=0.10 in /usr/local/lib/python3.7/dist-packages (from matplotlib) (0.10.0)\n",
            "Requirement already satisfied: numpy>=1.11 in /usr/local/lib/python3.7/dist-packages (from matplotlib) (1.19.5)\n",
            "Requirement already satisfied: python-dateutil>=2.1 in /usr/local/lib/python3.7/dist-packages (from matplotlib) (2.8.2)\n",
            "Requirement already satisfied: kiwisolver>=1.0.1 in /usr/local/lib/python3.7/dist-packages (from matplotlib) (1.3.2)\n",
            "Requirement already satisfied: pyparsing!=2.0.4,!=2.1.2,!=2.1.6,>=2.0.1 in /usr/local/lib/python3.7/dist-packages (from matplotlib) (2.4.7)\n",
            "Requirement already satisfied: six in /usr/local/lib/python3.7/dist-packages (from cycler>=0.10->matplotlib) (1.15.0)\n",
            "Requirement already satisfied: nltk in /usr/local/lib/python3.7/dist-packages (3.2.5)\n",
            "Requirement already satisfied: six in /usr/local/lib/python3.7/dist-packages (from nltk) (1.15.0)\n"
          ]
        }
      ]
    },
    {
      "cell_type": "code",
      "metadata": {
        "id": "Kwc5uRpZDHfh"
      },
      "source": [
        "import datetime\n",
        "import numpy as np\n",
        "from urllib.request import urlopen, Request\n",
        "from bs4 import BeautifulSoup\n",
        "import os\n",
        "import pandas as pd\n",
        "import matplotlib.pyplot as plt\n",
        "%matplotlib inline\n",
        "\n",
        "# NLTK VADER for sentiment analysis\n",
        "from nltk.sentiment.vader import SentimentIntensityAnalyzer"
      ],
      "execution_count": null,
      "outputs": []
    },
    {
      "cell_type": "markdown",
      "metadata": {
        "id": "J0jupIrKmVS5"
      },
      "source": [
        "# Scraping Notizie Finanziarie"
      ]
    },
    {
      "cell_type": "code",
      "metadata": {
        "id": "c0Q6t7ZkDzQv"
      },
      "source": [
        "\n",
        "finwiz_url = 'https://finviz.com/quote.ashx?t='\n",
        "\n",
        "news_tables = {}\n",
        "tickers = ['AMZN', 'TSLA', 'GOOG']\n",
        "\n",
        "for ticker in tickers:\n",
        "    url = finwiz_url + ticker\n",
        "    req = Request(url=url,headers={'User-Agent': 'Mozilla/5.0 (Windows NT 6.1; WOW64; rv:20.0) Gecko/20100101 Firefox/20.0'}) \n",
        "    response = urlopen(req)    \n",
        "    # lettura contenuto html\n",
        "    html = BeautifulSoup(response)\n",
        "    # selezione sezione 'news-table'\n",
        "    news_table = html.find(id='news-table')\n",
        "    # salvataggio sezione 'news-table'\n",
        "    news_tables[ticker] = news_table"
      ],
      "execution_count": null,
      "outputs": []
    },
    {
      "cell_type": "markdown",
      "metadata": {
        "id": "-CMJlptkmpl6"
      },
      "source": [
        "## Visualizzazione Esmpio Amazon"
      ]
    },
    {
      "cell_type": "code",
      "metadata": {
        "colab": {
          "base_uri": "https://localhost:8080/"
        },
        "id": "HajdeKSBD_FA",
        "outputId": "82a12b08-5ca1-441b-ce43-089a441053d0"
      },
      "source": [
        "\n",
        "# Lettura articoli con headline AMAZON 'AMZN' \n",
        "amzn = news_tables['AMZN']\n",
        "# Prende tutte le righe in HTML con <tr> in 'amzn_tr'\n",
        "amzn_tr = amzn.findAll('tr')\n",
        "\n",
        "for i, table_row in enumerate(amzn_tr):\n",
        "    # legge l'elemento 'a' in 'link_text'\n",
        "    a_text = table_row.a.text\n",
        "    # legge l'elemento 'td' in 'data_text'\n",
        "    td_text = table_row.td.text\n",
        "    # stampa 'link_text' e 'data_text' \n",
        "    print(a_text)\n",
        "    print(td_text)\n",
        "    # stampa solo i primi 4\n",
        "    if i == 3:\n",
        "        break"
      ],
      "execution_count": null,
      "outputs": [
        {
          "output_type": "stream",
          "name": "stdout",
          "text": [
            "Back from the dead, G4TV looks to cash in on the gaming craze it helped create\n",
            "Oct-19-21 05:05AM  \n",
            "Tesco launches Amazon Go style 'just walk out' store\n",
            "03:50AM  \n",
            "Amazon-owned Zoox to test its autonomous vehicles in Seattle\n",
            "02:23AM  \n",
            "Apples $19 Screen-Cleaning Cloth Sets High Bar for Brand Extras\n",
            "01:01AM  \n"
          ]
        }
      ]
    },
    {
      "cell_type": "markdown",
      "metadata": {
        "id": "FWsxDFLJoARW"
      },
      "source": [
        "## costruzione dataframe \n",
        "\n",
        "***Cosa è un DataFrame***\n",
        "\n",
        "Struttura dati di dimensioni variabili e potenzialmente eterogenea.\n",
        "\n",
        "La struttura dei dati contiene anche assi etichettati (righe e colonne).\n",
        "\n",
        "Può essere pensato come un contenitore simile a un dettato per oggetti Serie. \n",
        "\n",
        "Il DataFrame è la struttura dati primaria di Pandas."
      ]
    },
    {
      "cell_type": "code",
      "metadata": {
        "id": "HnGgnLs7ED7_"
      },
      "source": [
        "\n",
        "parsed_news = []\n",
        "\n",
        "# itera su tutte le news\n",
        "for file_name, news_table in news_tables.items():\n",
        "    # itera su tutti i tag tr che sono in 'news_table'\n",
        "    for x in news_table.findAll('tr'):\n",
        "        # legge il testo per ogni tag tr \n",
        "        text = x.a.get_text() \n",
        "        # splitta il testo per tag td in una lista \n",
        "        date_scrape = x.td.text.split()\n",
        "        # controllo se la lunghezza è 1 altrimenti itera\n",
        "        if len(date_scrape) == 1:\n",
        "            time = date_scrape[0] \n",
        "        else:\n",
        "            date = date_scrape[0]\n",
        "            time = date_scrape[1]\n",
        "        # estrae l'etichetta del titolo\n",
        "        ticker = file_name.split('_')[0]\n",
        "        # append le informazioni alla riga\n",
        "        parsed_news.append([ticker, date, time, text])\n",
        "        \n",
        "#parsed_news\n",
        "\n",
        "# nomi delle colonne\n",
        "columns = ['ticker', 'date', 'time', 'headline']\n",
        "\n",
        "# costruzione del dataframe usando pandas\n",
        "parsed_and_scored_news = pd.DataFrame(parsed_news, columns=columns)\n"
      ],
      "execution_count": null,
      "outputs": []
    },
    {
      "cell_type": "markdown",
      "metadata": {
        "id": "wzG9dwrfoEr0"
      },
      "source": [
        "# Sentiment\n",
        "\n",
        "Verrà svolta in modo non supervisionato usando la libreria NLTK.\n",
        "\n",
        "***SentimentIntensityAnalyzer()*** Molto simile al concetto di dizionario dove ad ogni termine viene associato un valore di 'polarità'\n"
      ]
    },
    {
      "cell_type": "code",
      "metadata": {
        "colab": {
          "base_uri": "https://localhost:8080/"
        },
        "id": "uc5OwhyaERp7",
        "outputId": "f6911104-3778-4165-f497-4093e5cce1c5"
      },
      "source": [
        "# scarico la libreria \n",
        "import nltk\n",
        "nltk.download('vader_lexicon')"
      ],
      "execution_count": null,
      "outputs": [
        {
          "output_type": "stream",
          "name": "stdout",
          "text": [
            "[nltk_data] Downloading package vader_lexicon to /root/nltk_data...\n",
            "[nltk_data]   Package vader_lexicon is already up-to-date!\n"
          ]
        },
        {
          "output_type": "execute_result",
          "data": {
            "text/plain": [
              "True"
            ]
          },
          "metadata": {},
          "execution_count": 70
        }
      ]
    },
    {
      "cell_type": "code",
      "metadata": {
        "id": "PvL_xJEEEJF3"
      },
      "source": [
        "# istanzio il sentiment analyzer\n",
        "vader = SentimentIntensityAnalyzer()\n",
        "\n",
        "\n",
        "# applico vader ottenedo le polarità delle news\n",
        "scores = parsed_and_scored_news['headline'].apply(vader.polarity_scores).tolist()\n",
        "\n",
        "# mette le polarità come colonna del dataframe\n",
        "scores_df = pd.DataFrame(scores)\n",
        "parsed_and_scored_news = parsed_and_scored_news.join(scores_df, rsuffix='_right')\n",
        "\n",
        "# converto le date in formato datetime\n",
        "parsed_and_scored_news['date'] = pd.to_datetime(parsed_and_scored_news.date).dt.date\n"
      ],
      "execution_count": null,
      "outputs": []
    },
    {
      "cell_type": "code",
      "metadata": {
        "colab": {
          "base_uri": "https://localhost:8080/",
          "height": 200
        },
        "id": "hNAiC8Z7xk34",
        "outputId": "3e2e5638-200a-4d3a-e02f-8c237323de81"
      },
      "source": [
        "# mostro i primi x elementi del DataFrame\n",
        "parsed_and_scored_news.head()\n",
        "\n",
        "#parsed_and_scored_news.iloc[4].headline"
      ],
      "execution_count": null,
      "outputs": [
        {
          "output_type": "execute_result",
          "data": {
            "text/html": [
              "<div>\n",
              "<style scoped>\n",
              "    .dataframe tbody tr th:only-of-type {\n",
              "        vertical-align: middle;\n",
              "    }\n",
              "\n",
              "    .dataframe tbody tr th {\n",
              "        vertical-align: top;\n",
              "    }\n",
              "\n",
              "    .dataframe thead th {\n",
              "        text-align: right;\n",
              "    }\n",
              "</style>\n",
              "<table border=\"1\" class=\"dataframe\">\n",
              "  <thead>\n",
              "    <tr style=\"text-align: right;\">\n",
              "      <th></th>\n",
              "      <th>ticker</th>\n",
              "      <th>date</th>\n",
              "      <th>time</th>\n",
              "      <th>headline</th>\n",
              "      <th>neg</th>\n",
              "      <th>neu</th>\n",
              "      <th>pos</th>\n",
              "      <th>compound</th>\n",
              "      <th>neg_right</th>\n",
              "      <th>neu_right</th>\n",
              "      <th>pos_right</th>\n",
              "      <th>compound_right</th>\n",
              "    </tr>\n",
              "  </thead>\n",
              "  <tbody>\n",
              "    <tr>\n",
              "      <th>0</th>\n",
              "      <td>AMZN</td>\n",
              "      <td>2021-10-19</td>\n",
              "      <td>05:05AM</td>\n",
              "      <td>Back from the dead, G4TV looks to cash in on t...</td>\n",
              "      <td>0.281</td>\n",
              "      <td>0.619</td>\n",
              "      <td>0.100</td>\n",
              "      <td>-0.5859</td>\n",
              "      <td>0.281</td>\n",
              "      <td>0.619</td>\n",
              "      <td>0.100</td>\n",
              "      <td>-0.5859</td>\n",
              "    </tr>\n",
              "    <tr>\n",
              "      <th>1</th>\n",
              "      <td>AMZN</td>\n",
              "      <td>2021-10-19</td>\n",
              "      <td>03:50AM</td>\n",
              "      <td>Tesco launches Amazon Go style 'just walk out'...</td>\n",
              "      <td>0.000</td>\n",
              "      <td>0.825</td>\n",
              "      <td>0.175</td>\n",
              "      <td>0.1779</td>\n",
              "      <td>0.000</td>\n",
              "      <td>0.825</td>\n",
              "      <td>0.175</td>\n",
              "      <td>0.1779</td>\n",
              "    </tr>\n",
              "    <tr>\n",
              "      <th>2</th>\n",
              "      <td>AMZN</td>\n",
              "      <td>2021-10-19</td>\n",
              "      <td>02:23AM</td>\n",
              "      <td>Amazon-owned Zoox to test its autonomous vehic...</td>\n",
              "      <td>0.000</td>\n",
              "      <td>1.000</td>\n",
              "      <td>0.000</td>\n",
              "      <td>0.0000</td>\n",
              "      <td>0.000</td>\n",
              "      <td>1.000</td>\n",
              "      <td>0.000</td>\n",
              "      <td>0.0000</td>\n",
              "    </tr>\n",
              "    <tr>\n",
              "      <th>3</th>\n",
              "      <td>AMZN</td>\n",
              "      <td>2021-10-19</td>\n",
              "      <td>01:01AM</td>\n",
              "      <td>Apples $19 Screen-Cleaning Cloth Sets High Bar...</td>\n",
              "      <td>0.000</td>\n",
              "      <td>1.000</td>\n",
              "      <td>0.000</td>\n",
              "      <td>0.0000</td>\n",
              "      <td>0.000</td>\n",
              "      <td>1.000</td>\n",
              "      <td>0.000</td>\n",
              "      <td>0.0000</td>\n",
              "    </tr>\n",
              "    <tr>\n",
              "      <th>4</th>\n",
              "      <td>AMZN</td>\n",
              "      <td>2021-10-18</td>\n",
              "      <td>10:33PM</td>\n",
              "      <td>Companies have a new weapon in the hunt for ta...</td>\n",
              "      <td>0.082</td>\n",
              "      <td>0.558</td>\n",
              "      <td>0.361</td>\n",
              "      <td>0.7579</td>\n",
              "      <td>0.082</td>\n",
              "      <td>0.558</td>\n",
              "      <td>0.361</td>\n",
              "      <td>0.7579</td>\n",
              "    </tr>\n",
              "  </tbody>\n",
              "</table>\n",
              "</div>"
            ],
            "text/plain": [
              "  ticker        date     time  ... neu_right  pos_right  compound_right\n",
              "0   AMZN  2021-10-19  05:05AM  ...     0.619      0.100         -0.5859\n",
              "1   AMZN  2021-10-19  03:50AM  ...     0.825      0.175          0.1779\n",
              "2   AMZN  2021-10-19  02:23AM  ...     1.000      0.000          0.0000\n",
              "3   AMZN  2021-10-19  01:01AM  ...     1.000      0.000          0.0000\n",
              "4   AMZN  2021-10-18  10:33PM  ...     0.558      0.361          0.7579\n",
              "\n",
              "[5 rows x 12 columns]"
            ]
          },
          "metadata": {},
          "execution_count": 75
        }
      ]
    },
    {
      "cell_type": "markdown",
      "metadata": {
        "id": "myulPQg_o8s6"
      },
      "source": [
        "## Visualizzazione Sentiment\n",
        "\n",
        "Usando Pandas e Matplotlib visualizziamo la polarità delle notizie relative ad Amazon, Google e Tesla"
      ]
    },
    {
      "cell_type": "code",
      "metadata": {
        "colab": {
          "base_uri": "https://localhost:8080/",
          "height": 436
        },
        "id": "1l3yQDjqEXo2",
        "outputId": "a80b268b-56b2-4806-ee87-5ab0c915034c"
      },
      "source": [
        "plt.rcParams['figure.figsize'] = [10, 6]\n",
        "\n",
        "# Raggruppa per data e colonne e calcola la media\n",
        "mean_scores = parsed_and_scored_news.groupby(['ticker','date']).mean()\n",
        "\n",
        "mean_scores = mean_scores.unstack()\n",
        "\n",
        "mean_scores = mean_scores.xs('compound', axis=\"columns\").transpose()\n",
        "\n",
        "# Plot a bar chart with pandas\n",
        "mean_scores.plot(kind = 'bar')\n",
        "plt.grid()"
      ],
      "execution_count": null,
      "outputs": [
        {
          "output_type": "display_data",
          "data": {
            "image/png": "[encoded data removed]",
            "text/plain": [
              "<Figure size 720x432 with 1 Axes>"
            ]
          },
          "metadata": {
            "needs_background": "light"
          }
        }
      ]
    },
    {
      "cell_type": "markdown",
      "metadata": {
        "id": "HAJGqLo1Pz8b"
      },
      "source": [
        "## Altri strumenti per la sentiment analysis\n",
        "\n",
        "Non esiste solo la libreria NLTK. \n",
        "\n",
        "Ci sono altri strumenti come ad esempio TextBlob."
      ]
    },
    {
      "cell_type": "code",
      "metadata": {
        "id": "xNbP4DxArnFH"
      },
      "source": [
        "from textblob import TextBlob\n",
        "\n",
        "def get_polarity(text):\n",
        "  return TextBlob(text).sentiment.polarity\n",
        "\n",
        "parsed_and_scored_news['Polarity_TB'] = parsed_and_scored_news['headline'].apply(get_polarity)"
      ],
      "execution_count": null,
      "outputs": []
    },
    {
      "cell_type": "code",
      "metadata": {
        "colab": {
          "base_uri": "https://localhost:8080/"
        },
        "id": "uR8kMx6myJsc",
        "outputId": "4618803a-a480-4331-8daa-e1f226fafed0"
      },
      "source": [
        "def get_polarity(text):\n",
        "  return TextBlob(text).sentiment\n",
        "\n",
        "get_polarity('What a beautiful day!')\n"
      ],
      "execution_count": null,
      "outputs": [
        {
          "output_type": "execute_result",
          "data": {
            "text/plain": [
              "Sentiment(polarity=1.0, subjectivity=1.0)"
            ]
          },
          "metadata": {},
          "execution_count": 80
        }
      ]
    },
    {
      "cell_type": "code",
      "metadata": {
        "colab": {
          "base_uri": "https://localhost:8080/"
        },
        "id": "fk1ECLtCyg8y",
        "outputId": "3ae1c909-09a7-42e1-ef0f-cc4a1bb7bab9"
      },
      "source": [
        "get_polarity('God, it was a shitty day.')"
      ],
      "execution_count": null,
      "outputs": [
        {
          "output_type": "execute_result",
          "data": {
            "text/plain": [
              "Sentiment(polarity=0.0, subjectivity=0.0)"
            ]
          },
          "metadata": {},
          "execution_count": 81
        }
      ]
    },
    {
      "cell_type": "code",
      "metadata": {
        "id": "4JXRBng6r9JV"
      },
      "source": [
        "parsed_and_scored_news['Sentiment_Type']=''\n",
        "parsed_and_scored_news.loc[parsed_and_scored_news.Polarity_TB>0,'Sentiment_Type']='POSITIVE'\n",
        "parsed_and_scored_news.loc[parsed_and_scored_news.Polarity_TB==0,'Sentiment_Type']='NEUTRAL'\n",
        "parsed_and_scored_news.loc[parsed_and_scored_news.Polarity_TB<0,'Sentiment_Type']='NEGATIVE'"
      ],
      "execution_count": null,
      "outputs": []
    },
    {
      "cell_type": "code",
      "metadata": {
        "colab": {
          "base_uri": "https://localhost:8080/",
          "height": 337
        },
        "id": "I-RKxfhysejX",
        "outputId": "4318dfa3-146d-434c-afa3-0e238bf1cb28"
      },
      "source": [
        "parsed_and_scored_news.Sentiment_Type.value_counts().plot(kind='bar',title=\"Sentiment Analysis\")\n"
      ],
      "execution_count": null,
      "outputs": [
        {
          "output_type": "execute_result",
          "data": {
            "text/plain": [
              "<matplotlib.axes._subplots.AxesSubplot at 0x7f31bbe99290>"
            ]
          },
          "metadata": {},
          "execution_count": 54
        },
        {
          "output_type": "display_data",
          "data": {
            "image/png": "[encoded data removed]",
            "text/plain": [
              "<Figure size 432x288 with 1 Axes>"
            ]
          },
          "metadata": {
            "needs_background": "light"
          }
        }
      ]
    },
    {
      "cell_type": "code",
      "metadata": {
        "colab": {
          "base_uri": "https://localhost:8080/"
        },
        "id": "qpMJK2Zmskhi",
        "outputId": "bcbdc32c-5571-4c18-de59-fde8aaeb2dcb"
      },
      "source": [
        "import nltk\n",
        "nltk.download('vader_lexicon')\n",
        "from nltk.sentiment.vader import SentimentIntensityAnalyzer\n",
        "sid = SentimentIntensityAnalyzer()"
      ],
      "execution_count": null,
      "outputs": [
        {
          "output_type": "stream",
          "name": "stdout",
          "text": [
            "[nltk_data] Downloading package vader_lexicon to /root/nltk_data...\n",
            "[nltk_data]   Package vader_lexicon is already up-to-date!\n"
          ]
        }
      ]
    },
    {
      "cell_type": "code",
      "metadata": {
        "id": "zhMHzpT0soAG"
      },
      "source": [
        "parsed_and_scored_news['Polarity_vader'] = parsed_and_scored_news['headline'].apply(lambda Description: sid.polarity_scores(Description))\n",
        "\n",
        "parsed_and_scored_news['sentiment_type']=''\n",
        "parsed_and_scored_news.loc[parsed_and_scored_news.compound>0,'sentiment_type']='POSITIVE'\n",
        "parsed_and_scored_news.loc[parsed_and_scored_news.compound==0,'sentiment_type']='NEUTRAL'\n",
        "parsed_and_scored_news.loc[parsed_and_scored_news.compound<0,'sentiment_type']='NEGATIVE'"
      ],
      "execution_count": null,
      "outputs": []
    },
    {
      "cell_type": "code",
      "metadata": {
        "colab": {
          "base_uri": "https://localhost:8080/",
          "height": 337
        },
        "id": "9wha_T7utH_g",
        "outputId": "fda46eda-eba7-4db6-8bd3-921cf981f638"
      },
      "source": [
        "parsed_and_scored_news.sentiment_type.value_counts().plot(kind='bar',title=\"sentiment analysis\")\n"
      ],
      "execution_count": null,
      "outputs": [
        {
          "output_type": "execute_result",
          "data": {
            "text/plain": [
              "<matplotlib.axes._subplots.AxesSubplot at 0x7f31bb64bad0>"
            ]
          },
          "metadata": {},
          "execution_count": 57
        },
        {
          "output_type": "display_data",
          "data": {
            "image/png": "[encoded data removed]",
            "text/plain": [
              "<Figure size 432x288 with 1 Axes>"
            ]
          },
          "metadata": {
            "needs_background": "light"
          }
        }
      ]
    }
  ]
}