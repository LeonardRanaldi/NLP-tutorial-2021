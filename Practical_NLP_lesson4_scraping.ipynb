{
  "nbformat": 4,
  "nbformat_minor": 0,
  "metadata": {
    "colab": {
      "name": "Practical NLP lesson4_scraping.ipynb",
      "provenance": [],
      "collapsed_sections": []
    },
    "kernelspec": {
      "name": "python3",
      "display_name": "Python 3"
    },
    "language_info": {
      "name": "python"
    }
  },
  "cells": [
    {
      "cell_type": "markdown",
      "metadata": {
        "id": "ANXEWwd-HopV"
      },
      "source": [
        "# The re Module\n",
        "\n",
        "Regex functionality in Python resides in a module named re. The re module contains many useful functions and methods, most of which you’ll learn about in the next tutorial in this series.\n",
        "\n",
        "For now, you’ll focus predominantly on one function, re.search().\n",
        "\n",
        "\n",
        "\n",
        "```\n",
        "# re.search(<regex>, <string>)\n",
        "```\n",
        "\n",
        "\n",
        "\n"
      ]
    },
    {
      "cell_type": "markdown",
      "metadata": {
        "id": "pdgWSFyCH0mn"
      },
      "source": [
        "re.search(regex, string) scans string looking for the first location where the pattern regex matches. If a match is found, then re.search() returns a match object. Otherwise, it returns None.\n"
      ]
    },
    {
      "cell_type": "markdown",
      "metadata": {
        "id": "R6galfnyIC0R"
      },
      "source": [
        "## How to Import & Use re.search()\n",
        "\n",
        "Because search() resides in the re module, you need to import it before you can use it. One way to do this is to import the entire module and then use the module name as a prefix when calling the function:\n",
        "\n",
        "\n",
        "\n",
        "```\n",
        "import re\n",
        "re.search(...)\n",
        "```\n",
        "\n"
      ]
    },
    {
      "cell_type": "markdown",
      "metadata": {
        "id": "jxE92bllIX0t"
      },
      "source": [
        "## First Example"
      ]
    },
    {
      "cell_type": "code",
      "metadata": {
        "colab": {
          "base_uri": "https://localhost:8080/"
        },
        "id": "0b2Rm1SvIWWx",
        "outputId": "f844d272-012c-4285-96f1-1a7e332b92c0"
      },
      "source": [
        "s = 'foo123bar'\n",
        "\n",
        "# One last reminder to import!\n",
        "import re\n",
        "\n",
        "re.search('123', s)"
      ],
      "execution_count": 1,
      "outputs": [
        {
          "output_type": "execute_result",
          "data": {
            "text/plain": [
              "<re.Match object; span=(3, 6), match='123'>"
            ]
          },
          "metadata": {},
          "execution_count": 1
        }
      ]
    },
    {
      "cell_type": "code",
      "metadata": {
        "colab": {
          "base_uri": "https://localhost:8080/"
        },
        "id": "_OjTC0HYIb1B",
        "outputId": "35cda2fc-eaa0-4fa3-b46c-e6fea2e7de3e"
      },
      "source": [
        "if re.search('123', s):\n",
        "    print('Found a match.')\n",
        "else:\n",
        "    print('No match.')"
      ],
      "execution_count": 2,
      "outputs": [
        {
          "output_type": "stream",
          "name": "stdout",
          "text": [
            "Found a match.\n"
          ]
        }
      ]
    },
    {
      "cell_type": "markdown",
      "metadata": {
        "id": "SQXSeSLPImkw"
      },
      "source": [
        "## Python Regex Metacharacters\n",
        "The real power of regex matching in Python emerges when **regex** contains special characters called **metacharacters**. These have a unique meaning to the regex matching engine and vastly enhance the capability of the search.\n",
        "\n",
        "Consider again the problem of how to determine whether a string contains any three consecutive decimal digit characters.\n",
        "\n",
        "In a regex, a set of characters specified in square brackets ([]) makes up a character class. This metacharacter sequence matches any single character that is in the class, as demonstrated in the following example:"
      ]
    },
    {
      "cell_type": "code",
      "metadata": {
        "colab": {
          "base_uri": "https://localhost:8080/"
        },
        "id": "FEo_qGH3I2q0",
        "outputId": "573fd4a5-bddd-4036-e8d8-33e2b62ed976"
      },
      "source": [
        "s = 'foo123bar'\n",
        "re.search('[0-9][0-9][0-9]', s)\n"
      ],
      "execution_count": null,
      "outputs": [
        {
          "output_type": "execute_result",
          "data": {
            "text/plain": [
              "<re.Match object; span=(3, 6), match='123'>"
            ]
          },
          "metadata": {},
          "execution_count": 27
        }
      ]
    },
    {
      "cell_type": "code",
      "metadata": {
        "colab": {
          "base_uri": "https://localhost:8080/"
        },
        "id": "5UYVBSlGI9TB",
        "outputId": "a37854a8-578f-483b-c9d4-c16d69a74369"
      },
      "source": [
        "print(re.search('[0-9][0-9][0-9]', 'crux87'))"
      ],
      "execution_count": null,
      "outputs": [
        {
          "output_type": "stream",
          "name": "stdout",
          "text": [
            "None\n"
          ]
        }
      ]
    },
    {
      "cell_type": "markdown",
      "metadata": {
        "id": "Ckvkb3ZmJRSF"
      },
      "source": [
        "With regexes in Python, you can identify patterns in a string that you wouldn’t be able to find with the in operator or with string methods.\n",
        "\n",
        "Take a look at another regex metacharacter. The dot (.) metacharacter matches any character except a newline, so it functions like a wildcard:"
      ]
    },
    {
      "cell_type": "code",
      "metadata": {
        "colab": {
          "base_uri": "https://localhost:8080/"
        },
        "id": "rb-IP__oJSUj",
        "outputId": "846c945b-1011-4876-a866-279b36732fef"
      },
      "source": [
        "s = 'foo123bar'\n",
        "re.search('1.3', s)\n",
        "\n",
        "\n",
        "s = 'foo13bar'\n",
        "print(re.search('1.3', s))"
      ],
      "execution_count": null,
      "outputs": [
        {
          "output_type": "stream",
          "name": "stdout",
          "text": [
            "None\n"
          ]
        }
      ]
    },
    {
      "cell_type": "markdown",
      "metadata": {
        "id": "qw32s8B8JVdX"
      },
      "source": [
        "# Metacharacters Supported by the re Module\n",
        "\n",
        "\n",
        "\n",
        "*   (.)\tMatches any single character except newline\n",
        "*  (^) Anchors a match at the start of a string\n",
        "*   ($)\tAnchors a match at the end of a string\n",
        "*\t(*) Matches zero or more repetitions\n",
        "*  (+)\tMatches one or more repetitions\n",
        "*  (?)\tMatches zero or one repetition,\n",
        "*  ({})\tMatches an explicitly specified number of repetitions\n",
        "*  (\\) Escapes a metacharacter of its special meaning\n",
        "*  ([])\tSpecifies a character class\n",
        "*  (|)\tDesignates alternation\n",
        "*  ()\tCreates a group\n",
        "*  (:, #, =, !)\tDesignate a specialized group\n",
        "*  (<>)\tCreates a named group\n"
      ]
    },
    {
      "cell_type": "code",
      "metadata": {
        "colab": {
          "base_uri": "https://localhost:8080/"
        },
        "id": "0V7Ej5DMIfza",
        "outputId": "66c5cd8e-3953-4a1a-cc3f-ef8cc900edf7"
      },
      "source": [
        "# search for substrings\n",
        "re.search('capell[io]', 'Marco ha i capelli neri')"
      ],
      "execution_count": 3,
      "outputs": [
        {
          "output_type": "execute_result",
          "data": {
            "text/plain": [
              "<re.Match object; span=(11, 18), match='capelli'>"
            ]
          },
          "metadata": {},
          "execution_count": 3
        }
      ]
    },
    {
      "cell_type": "code",
      "metadata": {
        "id": "P_IkOkpQK3eR"
      },
      "source": [
        "re.search('capell[o]', 'Marco ha i capelli neri')"
      ],
      "execution_count": null,
      "outputs": []
    },
    {
      "cell_type": "code",
      "metadata": {
        "colab": {
          "base_uri": "https://localhost:8080/"
        },
        "id": "y4xELwuzK4Ou",
        "outputId": "8da46ed3-773b-4dca-9b4a-642578369f00"
      },
      "source": [
        "# look for the first lowercase\n",
        "re.search('[a-z]', 'SS Lazio')\n"
      ],
      "execution_count": 4,
      "outputs": [
        {
          "output_type": "execute_result",
          "data": {
            "text/plain": [
              "<re.Match object; span=(4, 5), match='a'>"
            ]
          },
          "metadata": {},
          "execution_count": 4
        }
      ]
    },
    {
      "cell_type": "code",
      "metadata": {
        "colab": {
          "base_uri": "https://localhost:8080/"
        },
        "id": "0tglxANyK4Up",
        "outputId": "3ef23a90-4b61-4582-fd26-78e7e17921d6"
      },
      "source": [
        "#search for the first two numbers\n",
        "re.search('[0-9][0-9]', 'SS Lazio 1900')\n"
      ],
      "execution_count": 5,
      "outputs": [
        {
          "output_type": "execute_result",
          "data": {
            "text/plain": [
              "<re.Match object; span=(9, 11), match='19'>"
            ]
          },
          "metadata": {},
          "execution_count": 5
        }
      ]
    },
    {
      "cell_type": "code",
      "metadata": {
        "colab": {
          "base_uri": "https://localhost:8080/"
        },
        "id": "t8m3KWMAK4Xc",
        "outputId": "25dde8ab-8da6-4618-d8d8-6471c01896cd"
      },
      "source": [
        "#search for hexadecimanli\n",
        "re.search('[0-9a-fA-f]', '--- a0 ---')\n"
      ],
      "execution_count": 6,
      "outputs": [
        {
          "output_type": "execute_result",
          "data": {
            "text/plain": [
              "<re.Match object; span=(4, 5), match='a'>"
            ]
          },
          "metadata": {},
          "execution_count": 6
        }
      ]
    },
    {
      "cell_type": "code",
      "metadata": {
        "colab": {
          "base_uri": "https://localhost:8080/"
        },
        "id": "g403Zmy0MC4Y",
        "outputId": "61bc315f-0312-41a9-e748-58950eb84bdf"
      },
      "source": [
        "# search for the first character that is NOT an [a-z] letter\n",
        "re.search('[^ 0-9][^ A-Z]', 'SS Lazio 1900')"
      ],
      "execution_count": null,
      "outputs": [
        {
          "output_type": "execute_result",
          "data": {
            "text/plain": [
              "<re.Match object; span=(1, 3), match='S '>"
            ]
          },
          "metadata": {},
          "execution_count": 53
        }
      ]
    },
    {
      "cell_type": "code",
      "metadata": {
        "id": "cisLIKTKNs1i",
        "colab": {
          "base_uri": "https://localhost:8080/"
        },
        "outputId": "7bcba28d-fc44-404d-ab92-311120090a93"
      },
      "source": [
        "re.findall(\"\\d+\", 'SS Lazio 1900')"
      ],
      "execution_count": 7,
      "outputs": [
        {
          "output_type": "execute_result",
          "data": {
            "text/plain": [
              "['1900']"
            ]
          },
          "metadata": {},
          "execution_count": 7
        }
      ]
    },
    {
      "cell_type": "code",
      "metadata": {
        "colab": {
          "base_uri": "https://localhost:8080/"
        },
        "id": "C5uUNlckDM6K",
        "outputId": "cf4a7f82-f4bd-4a4f-ebd7-980bb21d7ca4"
      },
      "source": [
        "!pip install beautifulsoup4\n",
        "!pip install urllib3\n",
        "!pip install pandas\n",
        "!pip install matplotlib\n",
        "!pip install nltk"
      ],
      "execution_count": 8,
      "outputs": [
        {
          "output_type": "stream",
          "name": "stdout",
          "text": [
            "Requirement already satisfied: beautifulsoup4 in /usr/local/lib/python3.7/dist-packages (4.6.3)\n",
            "Requirement already satisfied: urllib3 in /usr/local/lib/python3.7/dist-packages (1.24.3)\n",
            "Requirement already satisfied: pandas in /usr/local/lib/python3.7/dist-packages (1.1.5)\n",
            "Requirement already satisfied: numpy>=1.15.4 in /usr/local/lib/python3.7/dist-packages (from pandas) (1.19.5)\n",
            "Requirement already satisfied: pytz>=2017.2 in /usr/local/lib/python3.7/dist-packages (from pandas) (2018.9)\n",
            "Requirement already satisfied: python-dateutil>=2.7.3 in /usr/local/lib/python3.7/dist-packages (from pandas) (2.8.2)\n",
            "Requirement already satisfied: six>=1.5 in /usr/local/lib/python3.7/dist-packages (from python-dateutil>=2.7.3->pandas) (1.15.0)\n",
            "Requirement already satisfied: matplotlib in /usr/local/lib/python3.7/dist-packages (3.2.2)\n",
            "Requirement already satisfied: kiwisolver>=1.0.1 in /usr/local/lib/python3.7/dist-packages (from matplotlib) (1.3.2)\n",
            "Requirement already satisfied: python-dateutil>=2.1 in /usr/local/lib/python3.7/dist-packages (from matplotlib) (2.8.2)\n",
            "Requirement already satisfied: pyparsing!=2.0.4,!=2.1.2,!=2.1.6,>=2.0.1 in /usr/local/lib/python3.7/dist-packages (from matplotlib) (2.4.7)\n",
            "Requirement already satisfied: numpy>=1.11 in /usr/local/lib/python3.7/dist-packages (from matplotlib) (1.19.5)\n",
            "Requirement already satisfied: cycler>=0.10 in /usr/local/lib/python3.7/dist-packages (from matplotlib) (0.10.0)\n",
            "Requirement already satisfied: six in /usr/local/lib/python3.7/dist-packages (from cycler>=0.10->matplotlib) (1.15.0)\n",
            "Requirement already satisfied: nltk in /usr/local/lib/python3.7/dist-packages (3.2.5)\n",
            "Requirement already satisfied: six in /usr/local/lib/python3.7/dist-packages (from nltk) (1.15.0)\n"
          ]
        }
      ]
    },
    {
      "cell_type": "code",
      "metadata": {
        "id": "Kwc5uRpZDHfh"
      },
      "source": [
        "import datetime\n",
        "import numpy as np\n",
        "from urllib.request import urlopen, Request\n",
        "from bs4 import BeautifulSoup\n",
        "import os\n",
        "import pandas as pd"
      ],
      "execution_count": 9,
      "outputs": []
    },
    {
      "cell_type": "markdown",
      "metadata": {
        "id": "J0jupIrKmVS5"
      },
      "source": [
        "# Scraping"
      ]
    },
    {
      "cell_type": "code",
      "metadata": {
        "id": "c0Q6t7ZkDzQv"
      },
      "source": [
        "\n",
        "url = 'https://www.ansa.it/'\n",
        "\n",
        "url = \"https://web.uniroma2.it/it/percorso/didattica/sezione/informatica-94846\"\n",
        "\n",
        "\n",
        "req = Request(url=url,headers={'User-Agent': 'Mozilla/5.0 (Windows NT 6.1; WOW64; rv:20.0) Gecko/20100101 Firefox/20.0'}) \n",
        "response = urlopen(req)    \n",
        "# reading content\n",
        "html = BeautifulSoup(response)\n"
      ],
      "execution_count": null,
      "outputs": []
    },
    {
      "cell_type": "code",
      "metadata": {
        "colab": {
          "base_uri": "https://localhost:8080/"
        },
        "id": "kko-E8ceBNAt",
        "outputId": "d23fbb19-d7e1-446e-e1e1-a74f3c658756"
      },
      "source": [
        "html"
      ],
      "execution_count": null,
      "outputs": [
        {
          "output_type": "execute_result",
          "data": {
            "text/plain": [
              "<!DOCTYPE html>\n",
              "<html lang=\"it\">\n",
              "<head>\n",
              "<meta charset=\"utf-8\"/>\n",
              "<meta content=\"IE=edge\" http-equiv=\"X-UA-Compatible\"/>\n",
              "<meta content=\"width=device-width, initial-scale=1\" name=\"viewport\"/>\n",
              "<title>Informatica</title>\n",
              "<link href=\"https://stackpath.bootstrapcdn.com/font-awesome/4.7.0/css/font-awesome.min.css\" rel=\"stylesheet\"/>\n",
              "<link crossorigin=\"anonymous\" href=\"https://cdn.jsdelivr.net/npm/bootstrap@4.6.0/dist/css/bootstrap.min.css\" integrity=\"sha384-B0vP5xmATw1+K9KRQjQERJvTumQW0nPEzvF6L/Z6nronJ3oUOFUFpCjEUQouq2+l\" rel=\"stylesheet\"/>\n",
              "<link href=\"//fonts.googleapis.com/css?family=Roboto:300,400,500,700,900\" media=\"all\" rel=\"stylesheet\"/>\n",
              "<link href=\"https://maxst.icons8.com/vue-static/landings/line-awesome/line-awesome/1.3.0/css/line-awesome.min.css\" rel=\"stylesheet\"/>\n",
              "<link href=\"/assets/css/sidebar/main.css\" rel=\"stylesheet\"/>\n",
              "<link href=\"/assets/css/sidebar/sidebar-themes.css\" rel=\"stylesheet\"/>\n",
              "<link href=\"https://cdn.datatables.net/1.10.24/css/jquery.dataTables.css\" rel=\"stylesheet\" type=\"text/css\"/>\n",
              "<link href=\"/assets/css/typo.css\" rel=\"stylesheet\"/>\n",
              "<link href=\"/assets/css/timeline.css\" rel=\"stylesheet\"/>\n",
              "<link href=\"/assets/css/style.css\" rel=\"stylesheet\"/>\n",
              "<link href=\"/assets/favicon.ico\" rel=\"shortcut icon\" type=\"image/png\"/>\n",
              "<script type=\"application/ld+json\">{\"@context\":\"https:\\/\\/schema.org\",\"@type\":\"Universit\\u00e0 degli Studi Roma Tor Vergata\",\"url\":\"https:\\/\\/web-2021.uniroma2.it\",\"logo\":\"https:\\/\\/web-2021.uniroma2.it\\/assets\\/images\\/logo\\/logo.png\",\"contactPoint\":{\"@type\":\"ContactPoint\",\"telephone\":\"+390672593099\",\"contactType\":\"customer service\"}}</script></head><body>\n",
              "<div class=\"page-wrapper light-theme\">\n",
              "<!-- page-content  -->\n",
              "<main class=\"page-content\">\n",
              "<div class=\"d-flex logo-area-white sticky-top\" id=\"bg-empty\">\n",
              "<div class=\"ml-2 flex-grow-1\">\n",
              "<a href=\"/it\"> <img alt=\"\" class=\"d-inline-block align-text-top\" id=\"logo-img\" src=\"/assets/images/logo/logo.png\"/>\n",
              "</a>\n",
              "</div>\n",
              "<div class=\"pr-3 pt-3\">\n",
              "<a class=\"btn btn-transparent\" href=\"/it/cerca\"><i class=\"horizontal-menu-icon fa fa-search\"></i><span class=\"icon-text\">Cerca</span></a>\n",
              "<a class=\"pl-1 align-middle disabled font-weight-bold\" href=\"https://web.uniroma2.it/language/it\">ITA</a> |\n",
              "\t\t\t\t\t<a class=\"align-middle \" href=\"https://web.uniroma2.it/language/en\">ENG</a>\n",
              "<button class=\"btn btn-transparent align-middle d-lg-none d-md-inline-block\" data-target=\"#horizontal-menu-modal\" data-toggle=\"modal\" id=\"horizontal-menu-button\">\n",
              "<i class=\"horizontal-menu-icon fa fa-bars\"></i>\n",
              "</button>\n",
              "</div>\n",
              "</div>\n",
              "<!-- Modal -->\n",
              "<!-- Modal con tutti i menù -->\n",
              "<div aria-hidden=\"true\" aria-labelledby=\"menuLabel\" class=\"modal fade\" id=\"horizontal-menu-modal\" tabindex=\"-1\">\n",
              "<div class=\"modal-dialog\">\n",
              "<div class=\"modal-content\">\n",
              "<div class=\"modal-body\">\n",
              "<img alt=\"logo Università degli Studi di Roma Tor Vergata\" class=\"modal-title brand-logo\" src=\"/assets/images/logo/logo_negativo.png\"/>\n",
              "<button aria-label=\"Close\" class=\"close\" data-dismiss=\"modal\" type=\"button\">\n",
              "<svg height=\"25px\" version=\"1.1\" viewbox=\"0 0 27 25\" width=\"27px\" xmlns=\"http://www.w3.org/2000/svg\" xmlns:xlink=\"http://www.w3.org/1999/xlink\"><!-- Generator: Sketch 46.2 (44496) - http://www.bohemiancoding.com/sketch --><title>Cross</title><desc>Created with Sketch.</desc><defs></defs><g fill=\"none\" fill-rule=\"evenodd\" id=\"Page-2\" stroke=\"none\" stroke-linecap=\"square\" stroke-width=\"1\"><g id=\"Ateneo-Mega-Menu-2\" stroke=\"#FFFFFF\" stroke-width=\"2\" transform=\"translate(-1175.000000, -23.000000)\"><g id=\"Mega-Menu-2\" transform=\"translate(-1.000000, 0.000000)\"><g id=\"Cross-2\" transform=\"translate(1177.000000, 24.000000)\"><path d=\"M0.5,22.5 L24.5,0.5\" id=\"Line-72\"></path><path d=\"M0.5,0.5 L24.5,22.5\" id=\"Line-82\"></path></g></g></g></g></svg>\n",
              "</button>\n",
              "<ul class=\"mt-3\" id=\"horizontal-menu-list\">\n",
              "<!-- \t\t\t\t\t\t\t\t<li class=\"expanded dropdown\"><a href=\"#\">Corsi</a> -->\n",
              "<!--     \t\t\t\t\t\t\t\t<ul class=\"dropdown-menu\"> -->\n",
              "<!--     \t\t\t\t\t\t\t\t\t<li><a href=\"#\">Facoltà e scuole</a></li> -->\n",
              "<!--     \t\t\t\t\t\t\t\t\t<li><a href=\"#\">Triennali e magistrali ciclo unico</a></li> -->\n",
              "<!--     \t\t\t\t\t\t\t\t\t<li><a href=\"#\">Magistrali</a></li> -->\n",
              "<!--     \t\t\t\t\t\t\t\t\t<li><a href=\"#\">...</a></li> -->\n",
              "<!--     \t\t\t\t\t\t\t\t</ul> -->\n",
              "<!--     \t\t\t\t\t\t\t</li> -->\n",
              "</ul>\n",
              "</div>\n",
              "</div>\n",
              "</div>\n",
              "</div>\n",
              "<nav class=\"navbar navbar-expand-lg d-none d-lg-block navbar-light bg-light align-items-end ml-auto\" id=\"horizontal-navbar\">\n",
              "<ul class=\"navbar-nav nav-fill w-100\">\n",
              "<li class=\"nav-item\">\n",
              "<a class=\"nav-link\" href=\"/it/percorso/campus\">\n",
              "\t\t\t\t\t\t\tAteneo</a>\n",
              "</li>\n",
              "<li class=\"nav-item\">\n",
              "<a class=\"nav-link\" href=\"/it/percorso/didattica\">\n",
              "\t\t\t\t\t\t\tDidattica</a>\n",
              "</li>\n",
              "<li class=\"nav-item\">\n",
              "<a class=\"nav-link\" href=\"/it/percorso/ricerca\">\n",
              "\t\t\t\t\t\t\tRicerca</a>\n",
              "</li>\n",
              "<li class=\"nav-item\">\n",
              "<a class=\"nav-link\" href=\"/it/percorso/imprese_e_territorio\">\n",
              "\t\t\t\t\t\t\tImprese e territorio</a>\n",
              "</li>\n",
              "<li class=\"nav-item\">\n",
              "<a class=\"nav-link\" href=\"/it/percorso/amministrazione\">\n",
              "\t\t\t\t\t\t\tAmministrazione</a>\n",
              "</li>\n",
              "<li class=\"nav-item\">\n",
              "<a class=\"nav-link\" href=\"/it/percorso/area_internazionale\">\n",
              "\t\t\t\t\t\t\tInternazionale</a>\n",
              "</li>\n",
              "<li class=\"nav-item\">\n",
              "<a class=\"nav-link\" href=\"/it/percorso/vivi_tor_vergata\">\n",
              "\t\t\t\t\t\t\tVivi Tor Vergata</a>\n",
              "</li>\n",
              "</ul>\n",
              "</nav>\n",
              "</main>\n",
              "<!-- page-content -->\n",
              "</div> <!-- BREADCRUMB -->\n",
              "<nav aria-label=\"breadcrumb\">\n",
              "<ol class=\"breadcrumb\" id=\"breadcrumbs\">\n",
              "<li class=\"breadcrumb-item\"><a href=\"/\">Home</a></li>\n",
              "<li class=\"breadcrumb-item\"><a href=\"/it/percorso/didattica\">Didattica</a></li>\n",
              "<li class=\"breadcrumb-item\"><a href=\"/it/percorso/didattica/sezione/corsi_di_laurea_magistrale\">Corsi di laurea magistrale</a></li>\n",
              "<li aria-current=\"page\" class=\"breadcrumb-item active\">Informatica</li>\n",
              "</ol>\n",
              "</nav>\n",
              "<!-- END BREADCRUMB -->\n",
              "<div class=\"container\">\n",
              "<div class=\"row pt-1\">\n",
              "<!-- LEFT MENU -->\n",
              "<div class=\"col-md-3 pb-4\" id=\"left-menu\">\n",
              "<div aria-multiselectable=\"true\" id=\"accordion\" role=\"tablist\">\n",
              "<div class=\"card rounded-0 border-bottom-0 border-white\">\n",
              "<div class=\"card-header border-bottom-0\" id=\"headingOne\" role=\"tab\">\n",
              "<a class=\"d-inline \" href=\"/it/percorso/didattica/sezione/macroaree\">Macroaree</a>\n",
              "<a aria-controls=\"collapse5306\" aria-expanded=\"false\" class=\"collapsed d-inline\" data-parent=\"#accordion\" data-toggle=\"collapse\" href=\"#collapse5306\">\n",
              "<i class=\"las la-times pull-right\"></i>\n",
              "</a>\n",
              "</div>\n",
              "<div aria-labelledby=\"heading5306\" class=\"collapse \" id=\"collapse5306\" role=\"tabpanel\">\n",
              "<div class=\"card-body\">\n",
              "<ul class=\"list-group rounded-0\">\n",
              "<li class=\"list-group-item\"><a class=\"\" href=\"/it/percorso/didattica/sezione/economia\">Economia</a></li>\n",
              "<li class=\"list-group-item\"><a class=\"\" href=\"/it/percorso/didattica/sezione/giurisprudenza\">Giurisprudenza</a></li>\n",
              "<li class=\"list-group-item\"><a class=\"\" href=\"/it/percorso/didattica/sezione/ingegneria\">Ingegneria</a></li>\n",
              "<li class=\"list-group-item\"><a class=\"\" href=\"/it/percorso/didattica/sezione/lettere_e_filosofia\">Lettere e Filosofia</a></li>\n",
              "<li class=\"list-group-item\"><a class=\"\" href=\"/it/percorso/didattica/sezione/medicina_e_chirurgia\">Medicina e Chirurgia</a></li>\n",
              "<li class=\"list-group-item\"><a class=\"\" href=\"/it/percorso/didattica/sezione/scienze_matematiche__fisiche_e_naturali\">Scienze Matematiche, Fisiche e Naturali</a></li>\n",
              "</ul>\n",
              "</div>\n",
              "</div>\n",
              "</div>\n",
              "<div class=\"card rounded-0 border-bottom-0 border-white\">\n",
              "<div class=\"card-header border-bottom-0\" id=\"headingOne\" role=\"tab\">\n",
              "<a class=\"d-inline \" href=\"/module/name/PdnHome/newlang/italiano/navpath/SEG\">Segreterie studenti</a>\n",
              "</div>\n",
              "</div>\n",
              "<div class=\"card rounded-0 border-bottom-0 border-white\">\n",
              "<div class=\"card-header border-bottom-0\" id=\"headingOne\" role=\"tab\">\n",
              "<a class=\"d-inline \" href=\"/it/percorso/didattica/sezione/immatricolazioni__iscrizioni_e_carriera_dello_studente__delphi_\">Immatricolazioni, iscrizioni e carriera dello studente (Delphi)</a>\n",
              "</div>\n",
              "</div>\n",
              "<div class=\"card rounded-0 border-bottom-0 border-white\">\n",
              "<div class=\"card-header border-bottom-0\" id=\"headingOne\" role=\"tab\">\n",
              "<a class=\"d-inline \" href=\"/it/percorso/didattica/sezione/guida_dello_studente\">Guida dello studente</a>\n",
              "<a aria-controls=\"collapse442\" aria-expanded=\"false\" class=\"collapsed d-inline\" data-parent=\"#accordion\" data-toggle=\"collapse\" href=\"#collapse442\">\n",
              "<i class=\"las la-times pull-right\"></i>\n",
              "</a>\n",
              "</div>\n",
              "<div aria-labelledby=\"heading442\" class=\"collapse \" id=\"collapse442\" role=\"tabpanel\">\n",
              "<div class=\"card-body\">\n",
              "<ul class=\"list-group rounded-0\">\n",
              "<li class=\"list-group-item\"><a class=\"\" href=\"/it/percorso/didattica/sezione/archivio_delle_guide_dello_studente\">Archivio delle Guide dello studente</a></li>\n",
              "</ul>\n",
              "</div>\n",
              "</div>\n",
              "</div>\n",
              "<div class=\"card rounded-0 border-bottom-0 border-white\">\n",
              "<div class=\"card-header border-bottom-0\" id=\"headingOne\" role=\"tab\">\n",
              "<a class=\"d-inline \" href=\"/it/percorso/didattica/sezione/brochure_di_ateneo\">Brochure di Ateneo</a>\n",
              "<a aria-controls=\"collapse6099\" aria-expanded=\"false\" class=\"collapsed d-inline\" data-parent=\"#accordion\" data-toggle=\"collapse\" href=\"#collapse6099\">\n",
              "<i class=\"las la-times pull-right\"></i>\n",
              "</a>\n",
              "</div>\n",
              "<div aria-labelledby=\"heading6099\" class=\"collapse \" id=\"collapse6099\" role=\"tabpanel\">\n",
              "<div class=\"card-body\">\n",
              "<ul class=\"list-group rounded-0\">\n",
              "<li class=\"list-group-item\"><a class=\"\" href=\"/it/percorso/didattica/sezione/archivio_brochure_di_ateneo\">Archivio brochure di Ateneo</a></li>\n",
              "</ul>\n",
              "</div>\n",
              "</div>\n",
              "</div>\n",
              "<div class=\"card rounded-0 border-bottom-0 border-white\">\n",
              "<div class=\"card-header border-bottom-0\" id=\"headingOne\" role=\"tab\">\n",
              "<a class=\"d-inline \" href=\"//didatticaweb.uniroma2.it/\">Didattica Web</a>\n",
              "</div>\n",
              "</div>\n",
              "<div class=\"card rounded-0 border-bottom-0 border-white\">\n",
              "<div class=\"card-header border-bottom-0\" id=\"headingOne\" role=\"tab\">\n",
              "<a class=\"d-inline \" href=\"/it/percorso/didattica/sezione/elenco_dei_corsi_di_laurea_suddivisi_per_area\">Elenco dei Corsi di Laurea suddivisi per Area</a>\n",
              "</div>\n",
              "</div>\n",
              "<div class=\"card rounded-0 border-bottom-0 border-white\">\n",
              "<div class=\"card-header border-bottom-0\" id=\"headingOne\" role=\"tab\">\n",
              "<a class=\"d-inline \" href=\"/it/percorso/didattica/sezione/corsi_di_laurea\">Corsi di laurea</a>\n",
              "<a aria-controls=\"collapse4430\" aria-expanded=\"false\" class=\"collapsed d-inline\" data-parent=\"#accordion\" data-toggle=\"collapse\" href=\"#collapse4430\">\n",
              "<i class=\"las la-times pull-right\"></i>\n",
              "</a>\n",
              "</div>\n",
              "<div aria-labelledby=\"heading4430\" class=\"collapse \" id=\"collapse4430\" role=\"tabpanel\">\n",
              "<div class=\"card-body\">\n",
              "<ul class=\"list-group rounded-0\">\n",
              "<li class=\"list-group-item\"><a class=\"\" href=\"/it/percorso/didattica/sezione/beni_culturali__archeologici__artistici__musicali_e_dello_spettacolo_\">Beni culturali (archeologici, artistici, musicali e dello spettacolo)</a></li>\n",
              "<li class=\"list-group-item\"><a class=\"\" href=\"/it/percorso/didattica/sezione/biotecnologie\">Biotecnologie</a></li>\n",
              "<li class=\"list-group-item\"><a class=\"\" href=\"/it/percorso/didattica/sezione/business_administration_and_economics\">Business administration and economics</a></li>\n",
              "<li class=\"list-group-item\"><a class=\"\" href=\"/it/percorso/didattica/sezione/chimica\">Chimica</a></li>\n",
              "<li class=\"list-group-item\"><a class=\"\" href=\"/it/percorso/didattica/sezione/chimica_applicata\">Chimica applicata</a></li>\n",
              "<li class=\"list-group-item\"><a class=\"\" href=\"/it/percorso/didattica/sezione/dietistica\">Dietistica</a></li>\n",
              "<li class=\"list-group-item\"><a class=\"\" href=\"/it/percorso/didattica/sezione/economia_e_finanza__clef_\">Economia e finanza (CLEF)</a></li>\n",
              "<li class=\"list-group-item\"><a class=\"\" href=\"/it/percorso/didattica/sezione/economia_e_management__clem_\">Economia e management (CLEM)</a></li>\n",
              "<li class=\"list-group-item\"><a class=\"\" href=\"/it/percorso/didattica/sezione/educazione_professionale\">Educazione professionale</a></li>\n",
              "<li class=\"list-group-item\"><a class=\"\" href=\"/it/percorso/didattica/sezione/engineering_sciences\">Engineering Sciences</a></li>\n",
              "<li class=\"list-group-item\"><a class=\"\" href=\"/it/percorso/didattica/sezione/filosofia\">Filosofia</a></li>\n",
              "<li class=\"list-group-item\"><a class=\"\" href=\"/it/percorso/didattica/sezione/fisica\">Fisica</a></li>\n",
              "<li class=\"list-group-item\"><a class=\"\" href=\"/it/percorso/didattica/sezione/fisioterapia\">Fisioterapia</a></li>\n",
              "<li class=\"list-group-item\"><a class=\"\" href=\"/it/percorso/didattica/sezione/global_governance-36050\">Global governance</a></li>\n",
              "<li class=\"list-group-item\"><a class=\"\" href=\"/it/percorso/didattica/sezione/igiene_dentale\">Igiene dentale</a></li>\n",
              "<li class=\"list-group-item\"><a class=\"\" href=\"/it/percorso/didattica/sezione/infermieristica\">Infermieristica</a></li>\n",
              "<li class=\"list-group-item\"><a class=\"\" href=\"/it/percorso/didattica/sezione/infermieristica_pediatrica\">Infermieristica pediatrica</a></li>\n",
              "<li class=\"list-group-item\"><a class=\"\" href=\"/it/percorso/didattica/sezione/informatica\">Informatica</a></li>\n",
              "<li class=\"list-group-item\"><a class=\"\" href=\"/it/percorso/didattica/sezione/ingegneria_civile_e_ambientale\">Ingegneria civile e ambientale</a></li>\n",
              "<li class=\"list-group-item\"><a class=\"\" href=\"/it/percorso/didattica/sezione/ingegneria_dell_edilizia\">Ingegneria dell'edilizia</a></li>\n",
              "<li class=\"list-group-item\"><a class=\"\" href=\"/it/percorso/didattica/sezione/ingegneria_di_internet\">Ingegneria di Internet</a></li>\n",
              "<li class=\"list-group-item\"><a class=\"\" href=\"/it/percorso/didattica/sezione/ingegneria_elettronica\">Ingegneria elettronica</a></li>\n",
              "<li class=\"list-group-item\"><a class=\"\" href=\"/it/percorso/didattica/sezione/ingegneria_gestionale-21634\">Ingegneria gestionale</a></li>\n",
              "<li class=\"list-group-item\"><a class=\"\" href=\"/it/percorso/didattica/sezione/ingegneria_gestionale__modalitr_prevalentemente_a_distanza_\">Ingegneria gestionale (modalità prevalentemente a distanza)</a></li>\n",
              "<li class=\"list-group-item\"><a class=\"\" href=\"/it/percorso/didattica/sezione/ingegneria_informatica\">Ingegneria informatica</a></li>\n",
              "<li class=\"list-group-item\"><a class=\"\" href=\"/it/percorso/didattica/sezione/ingegneria_meccanica\">Ingegneria meccanica</a></li>\n",
              "<li class=\"list-group-item\"><a class=\"\" href=\"/it/percorso/didattica/sezione/ingegneria_medica\">Ingegneria medica</a></li>\n",
              "<li class=\"list-group-item\"><a class=\"\" href=\"/it/percorso/didattica/sezione/ingegneria_energetica\">Ingegneria per l'energia e l'ambiente</a></li>\n",
              "<li class=\"list-group-item\"><a class=\"\" href=\"/it/percorso/didattica/sezione/lettere-84894\">Lettere</a></li>\n",
              "<li class=\"list-group-item\"><a class=\"\" href=\"/it/percorso/didattica/sezione/lingue_e_letterature_moderne\">Lingue e Letterature moderne</a></li>\n",
              "<li class=\"list-group-item\"><a class=\"\" href=\"/it/percorso/didattica/sezione/lingue_nella_societr_dellrinformazione\">Lingue nella società dell’informazione</a></li>\n",
              "<li class=\"list-group-item\"><a class=\"\" href=\"/it/percorso/didattica/sezione/logopedia\">Logopedia</a></li>\n",
              "<li class=\"list-group-item\"><a class=\"\" href=\"/it/percorso/didattica/sezione/matematica\">Matematica</a></li>\n",
              "<li class=\"list-group-item\"><a class=\"\" href=\"/it/percorso/didattica/sezione/ortottica_ed_assistenza_oftalmologica\">Ortottica ed assistenza oftalmologica</a></li>\n",
              "<li class=\"list-group-item\"><a class=\"\" href=\"/it/percorso/didattica/sezione/ostetricia\">Ostetricia</a></li>\n",
              "<li class=\"list-group-item\"><a class=\"\" href=\"/it/percorso/didattica/sezione/podologia\">Podologia</a></li>\n",
              "<li class=\"list-group-item\"><a class=\"\" href=\"/it/percorso/didattica/sezione/scienza_dei_materiali\">Scienza dei materiali</a></li>\n",
              "<li class=\"list-group-item\"><a class=\"\" href=\"/it/percorso/didattica/sezione/scienze_biologiche\">Scienze biologiche</a></li>\n",
              "<li class=\"list-group-item\"><a class=\"\" href=\"/it/percorso/didattica/sezione/scienze_del_turismo\">Scienze del turismo</a></li>\n",
              "<li class=\"list-group-item\"><a class=\"\" href=\"/it/percorso/didattica/sezione/scienze_della_comunicazione\">Scienze della comunicazione</a></li>\n",
              "<li class=\"list-group-item\"><a class=\"\" href=\"/it/percorso/didattica/sezione/scienze_dellramministrazione_e_delle_relazioni_internazionali\">Scienze dell’Amministrazione e delle Relazioni internazionali</a></li>\n",
              "<li class=\"list-group-item\"><a class=\"\" href=\"/it/percorso/didattica/sezione/scienze_dellreducazione_e_della_formazione\">Scienze dell’Educazione e della Formazione</a></li>\n",
              "<li class=\"list-group-item\"><a class=\"\" href=\"/it/percorso/didattica/sezione/scienze_e_tecnologie_per_i_media\">Scienze e tecnologie per i media</a></li>\n",
              "<li class=\"list-group-item\"><a class=\"\" href=\"/it/percorso/didattica/sezione/scienze_motorie\">Scienze motorie</a></li>\n",
              "<li class=\"list-group-item\"><a class=\"\" href=\"/it/percorso/didattica/sezione/tecnica_della_riabilitazione_psichiatrica\">Tecnica della riabilitazione psichiatrica</a></li>\n",
              "<li class=\"list-group-item\"><a class=\"\" href=\"/it/percorso/didattica/sezione/tecniche_audioprotesiche\">Tecniche audioprotesiche</a></li>\n",
              "<li class=\"list-group-item\"><a class=\"\" href=\"/it/percorso/didattica/sezione/tecniche_della_prevenzione_nell_ambiente_e_nei_luoghi_di_lavoro\">Tecniche della prevenzione nell'ambiente e nei luoghi di lavoro</a></li>\n",
              "<li class=\"list-group-item\"><a class=\"\" href=\"/it/percorso/didattica/sezione/tecniche_di_fisiopatologia_cardiocircolatoria_e_perfusione_cardiovascolare\">Tecniche di fisiopatologia cardiocircolatoria e perfusione cardiovascolare</a></li>\n",
              "<li class=\"list-group-item\"><a class=\"\" href=\"/it/percorso/didattica/sezione/tecniche_di_laboratorio_biomedico\">Tecniche di laboratorio biomedico</a></li>\n",
              "<li class=\"list-group-item\"><a class=\"\" href=\"/it/percorso/didattica/sezione/tecniche_di_neurofisiopatologia\">Tecniche di neurofisiopatologia</a></li>\n",
              "<li class=\"list-group-item\"><a class=\"\" href=\"/it/percorso/didattica/sezione/tecniche_di_radiologia_medica_per_immagini_e_radioterapia\">Tecniche di radiologia medica per immagini e radioterapia</a></li>\n",
              "<li class=\"list-group-item\"><a class=\"\" href=\"/it/percorso/didattica/sezione/tecniche_ortopediche\">Tecniche ortopediche</a></li>\n",
              "<li class=\"list-group-item\"><a class=\"\" href=\"/it/percorso/didattica/sezione/terapia_della_neuro_e_psicomotricitr_dell_etr_evolutiva\">Terapia della neuro e psicomotricità dell'età evolutiva</a></li>\n",
              "<li class=\"list-group-item\"><a class=\"\" href=\"/it/percorso/didattica/sezione/turismo_enogastronomico\">Turismo enogastronomico</a></li>\n",
              "</ul>\n",
              "</div>\n",
              "</div>\n",
              "</div>\n",
              "<div class=\"card rounded-0 border-bottom-0 border-white\">\n",
              "<div class=\"card-header border-bottom-0\" id=\"headingOne\" role=\"tab\">\n",
              "<a class=\"d-inline \" href=\"/it/percorso/didattica/sezione/corsi_di_laurea_magistrale\">Corsi di laurea magistrale</a>\n",
              "<a aria-controls=\"collapse4431\" aria-expanded=\"false\" class=\" d-inline\" data-parent=\"#accordion\" data-toggle=\"collapse\" href=\"#collapse4431\">\n",
              "<i class=\"las la-times pull-right\"></i>\n",
              "</a>\n",
              "</div>\n",
              "<div aria-labelledby=\"heading4431\" class=\"collapse show\" id=\"collapse4431\" role=\"tabpanel\">\n",
              "<div class=\"card-body\">\n",
              "<ul class=\"list-group rounded-0\">\n",
              "<li class=\"list-group-item\"><a class=\"\" href=\"/it/percorso/didattica/sezione/archeologia__filologia__letterature_e_storia_dell_antichitr\">Archeologia, filologia, letterature e storia dell'antichità</a></li>\n",
              "<li class=\"list-group-item\"><a class=\"\" href=\"/it/percorso/didattica/sezione/art_history_in_rome__from_late_antiquity_to_the_present\">Art History in Rome, from Late Antiquity to the Present</a></li>\n",
              "<li class=\"list-group-item\"><a class=\"\" href=\"/it/percorso/didattica/sezione/bioinformatica\">Bioinformatica</a></li>\n",
              "<li class=\"list-group-item\"><a class=\"\" href=\"/it/percorso/didattica/sezione/biologia_cellulare_e_molecolare_e_scienze_biomediche\">Biologia cellulare e molecolare e Scienze biomediche</a></li>\n",
              "<li class=\"list-group-item\"><a class=\"\" href=\"/it/percorso/didattica/sezione/biologia_evoluzionistica__ecologia_e_antropologia_applicata\">Biologia evoluzionistica, ecologia e antropologia applicata</a></li>\n",
              "<li class=\"list-group-item\"><a class=\"\" href=\"/it/percorso/didattica/sezione/biotecnologie_mediche\">Biotecnologie mediche</a></li>\n",
              "<li class=\"list-group-item\"><a class=\"\" href=\"/it/percorso/didattica/sezione/business_administration\">Business administration</a></li>\n",
              "<li class=\"list-group-item\"><a class=\"\" href=\"/it/percorso/didattica/sezione/chemical_nano-engineering\">Chemical Nano-Engineering</a></li>\n",
              "<li class=\"list-group-item\"><a class=\"\" href=\"/it/percorso/didattica/sezione/chimica-26538\">Chimica</a></li>\n",
              "<li class=\"list-group-item\"><a class=\"\" href=\"/it/percorso/didattica/sezione/clinical_psychosexology\">Clinical Psychosexology</a></li>\n",
              "<li class=\"list-group-item\"><a class=\"\" href=\"/it/percorso/didattica/sezione/economia_dei_mercati_e_degli_intermediari_finanziari\">Economia dei mercati e degli intermediari finanziari</a></li>\n",
              "<li class=\"list-group-item\"><a class=\"\" href=\"/it/percorso/didattica/sezione/economia_e_management\">Economia e management</a></li>\n",
              "<li class=\"list-group-item\"><a class=\"\" href=\"/it/percorso/didattica/sezione/economics-78100\">Economics</a></li>\n",
              "<li class=\"list-group-item\"><a class=\"\" href=\"/it/percorso/didattica/sezione/european_economy_and_business_law\">European economy and business law</a></li>\n",
              "<li class=\"list-group-item\"><a class=\"\" href=\"/it/percorso/didattica/sezione/filosofia-40080\">Filosofia</a></li>\n",
              "<li class=\"list-group-item\"><a class=\"\" href=\"/it/percorso/didattica/sezione/finance_and_banking\">Finance and banking</a></li>\n",
              "<li class=\"list-group-item\"><a class=\"\" href=\"/it/percorso/didattica/sezione/fisica-25245\">Fisica</a></li>\n",
              "<li class=\"list-group-item\"><a class=\"\" href=\"/it/percorso/didattica/sezione/ict_and_internet_engineering\">ICT and Internet Engineering</a></li>\n",
              "<li class=\"list-group-item\"><a class=\"font-weight-bold\" href=\"/it/percorso/didattica/sezione/informatica-94846\">Informatica</a></li>\n",
              "<li class=\"list-group-item\"><a class=\"\" href=\"/it/percorso/didattica/sezione/ingegneria_civile\">Ingegneria civile</a></li>\n",
              "<li class=\"list-group-item\"><a class=\"\" href=\"/it/percorso/didattica/sezione/ingegneria_dell_automazione\">Ingegneria dell'automazione</a></li>\n",
              "<li class=\"list-group-item\"><a class=\"\" href=\"/it/percorso/didattica/sezione/ingegneria_e_tecniche_del_costruire\">Ingegneria e tecniche del costruire</a></li>\n",
              "<li class=\"list-group-item\"><a class=\"\" href=\"/it/percorso/didattica/sezione/ingegneria_elettronica-95894\">Ingegneria elettronica</a></li>\n",
              "<li class=\"list-group-item\"><a class=\"\" href=\"/it/percorso/didattica/sezione/ingegneria_energetica-90331\">Ingegneria energetica</a></li>\n",
              "<li class=\"list-group-item\"><a class=\"\" href=\"/it/percorso/didattica/sezione/ingegneria_gestionale\">Ingegneria gestionale</a></li>\n",
              "<li class=\"list-group-item\"><a class=\"\" href=\"/it/percorso/didattica/sezione/ingegneria_informatica-51223\">Ingegneria informatica</a></li>\n",
              "<li class=\"list-group-item\"><a class=\"\" href=\"/it/percorso/didattica/sezione/ingegneria_meccanica-92101\">Ingegneria meccanica</a></li>\n",
              "<li class=\"list-group-item\"><a class=\"\" href=\"/it/percorso/didattica/sezione/ingegneria_medica-71858\">Ingegneria medica</a></li>\n",
              "<li class=\"list-group-item\"><a class=\"\" href=\"/it/percorso/didattica/sezione/ingegneria_per_l_ambiente_e_il_territorio\">Ingegneria per l'ambiente e il territorio</a></li>\n",
              "<li class=\"list-group-item\"><a class=\"\" href=\"/it/percorso/didattica/sezione/letteratura_italiana__filologia_moderna_e_linguistica\">Letteratura italiana, filologia moderna e linguistica </a></li>\n",
              "<li class=\"list-group-item\"><a class=\"\" href=\"/it/percorso/didattica/sezione/lingua_e_cultura_italiana_a_stranieri_per_lraccoglienza_e_lrinternazionalizzazione\">Lingua e cultura italiana a stranieri per l’accoglienza e l’internazionalizzazione </a></li>\n",
              "<li class=\"list-group-item\"><a class=\"\" href=\"/it/percorso/didattica/sezione/lingue_e_letterature_europee_ed_americane\">Lingue e letterature europee ed americane</a></li>\n",
              "<li class=\"list-group-item\"><a class=\"\" href=\"/it/percorso/didattica/sezione/matematica_pura_e_applicata\">Matematica pura e applicata</a></li>\n",
              "<li class=\"list-group-item\"><a class=\"\" href=\"/it/percorso/didattica/sezione/mechatronics_engineering\">Mechatronics Engineering</a></li>\n",
              "<li class=\"list-group-item\"><a class=\"\" href=\"/it/percorso/didattica/sezione/musica_e_spettacolo\">Musica e spettacolo</a></li>\n",
              "<li class=\"list-group-item\"><a class=\"\" href=\"/it/percorso/didattica/sezione/physical_activity_and_health_promotion\">Physical activity and health promotion</a></li>\n",
              "<li class=\"list-group-item\"><a class=\"\" href=\"/it/percorso/didattica/sezione/progettazione_e_gestione_dei_sistemi_turistici\">Progettazione e gestione dei sistemi turistici</a></li>\n",
              "<li class=\"list-group-item\"><a class=\"\" href=\"/it/percorso/didattica/sezione/science_in_biotechnology\">Science in Biotechnology</a></li>\n",
              "<li class=\"list-group-item\"><a class=\"\" href=\"/it/percorso/didattica/sezione/scienze_dell_informazione__della_comunicazione_e_dell_editoria\">Scienze dell'informazione, della comunicazione e dell'editoria</a></li>\n",
              "<li class=\"list-group-item\"><a class=\"\" href=\"/it/percorso/didattica/sezione/scienze_della_nutrizione_umana\">Scienze della nutrizione umana</a></li>\n",
              "<li class=\"list-group-item\"><a class=\"\" href=\"/it/percorso/didattica/sezione/scienze_della_storia_e_del_documento\">Scienze della storia e del documento </a></li>\n",
              "<li class=\"list-group-item\"><a class=\"\" href=\"/it/percorso/didattica/sezione/scienze_delle_professioni_sanitarie_della_prevenzione\">Scienze delle professioni sanitarie della prevenzione</a></li>\n",
              "<li class=\"list-group-item\"><a class=\"\" href=\"/it/percorso/didattica/sezione/scienze_delle_professioni_sanitarie_tecniche_diagnostiche\">Scienze delle professioni sanitarie tecniche diagnostiche</a></li>\n",
              "<li class=\"list-group-item\"><a class=\"\" href=\"/it/percorso/didattica/sezione/scienze_e_tecniche_delle_attivitr_motorie_preventive_e_adattate\">Scienze e tecniche delle attività motorie preventive e adattate</a></li>\n",
              "<li class=\"list-group-item\"><a class=\"\" href=\"/it/percorso/didattica/sezione/scienze_e_tecniche_dello_sport\">Scienze e tecniche dello sport</a></li>\n",
              "<li class=\"list-group-item\"><a class=\"\" href=\"/it/percorso/didattica/sezione/scienze_e_tecnologie_dei_materiali\">Scienze e tecnologie dei materiali</a></li>\n",
              "<li class=\"list-group-item\"><a class=\"\" href=\"/it/percorso/didattica/sezione/scienze_infermieristiche_e_ostetriche\">Scienze infermieristiche e ostetriche</a></li>\n",
              "<li class=\"list-group-item\"><a class=\"\" href=\"/it/percorso/didattica/sezione/scienze_pedagogiche\">Scienze pedagogiche </a></li>\n",
              "<li class=\"list-group-item\"><a class=\"\" href=\"/it/percorso/didattica/sezione/scienze_riabilitative_delle_professioni_sanitarie\">Scienze riabilitative delle professioni sanitarie</a></li>\n",
              "<li class=\"list-group-item\"><a class=\"\" href=\"/it/percorso/didattica/sezione/storia_dell_arte\">Storia dell'arte</a></li>\n",
              "<li class=\"list-group-item\"><a class=\"\" href=\"/it/percorso/didattica/sezione/tourism_strategy__cultural_heritage_and_made_in_italy\">Tourism Strategy, Cultural Heritage and Made in Italy</a></li>\n",
              "</ul>\n",
              "</div>\n",
              "</div>\n",
              "</div>\n",
              "<div class=\"card rounded-0 border-bottom-0 border-white\">\n",
              "<div class=\"card-header border-bottom-0\" id=\"headingOne\" role=\"tab\">\n",
              "<a class=\"d-inline \" href=\"/it/percorso/didattica/sezione/corsi_di_laurea_a_ciclo_unico\">Corsi di laurea a ciclo unico</a>\n",
              "<a aria-controls=\"collapse4432\" aria-expanded=\"false\" class=\"collapsed d-inline\" data-parent=\"#accordion\" data-toggle=\"collapse\" href=\"#collapse4432\">\n",
              "<i class=\"las la-times pull-right\"></i>\n",
              "</a>\n",
              "</div>\n",
              "<div aria-labelledby=\"heading4432\" class=\"collapse \" id=\"collapse4432\" role=\"tabpanel\">\n",
              "<div class=\"card-body\">\n",
              "<ul class=\"list-group rounded-0\">\n",
              "<li class=\"list-group-item\"><a class=\"\" href=\"/it/percorso/didattica/sezione/conservazione_e_restauro_dei_beni_culturali\">Conservazione e restauro dei beni culturali</a></li>\n",
              "<li class=\"list-group-item\"><a class=\"\" href=\"/it/percorso/didattica/sezione/farmacia-27857\">Farmacia</a></li>\n",
              "<li class=\"list-group-item\"><a class=\"\" href=\"/it/percorso/didattica/sezione/giurisprudenza-32740\">Giurisprudenza</a></li>\n",
              "<li class=\"list-group-item\"><a class=\"\" href=\"/it/percorso/didattica/sezione/ingegneria_edile-architettura\">Ingegneria edile-architettura</a></li>\n",
              "<li class=\"list-group-item\"><a class=\"\" href=\"/it/percorso/didattica/sezione/medicina_e_chirurgia-76344\">Medicina e Chirurgia</a></li>\n",
              "<li class=\"list-group-item\"><a class=\"\" href=\"/it/percorso/didattica/sezione/medicine_and_surgery\">Medicine and Surgery</a></li>\n",
              "<li class=\"list-group-item\"><a class=\"\" href=\"/it/percorso/didattica/sezione/odontoiatria_e_protesi_dentaria\">Odontoiatria e protesi dentaria</a></li>\n",
              "</ul>\n",
              "</div>\n",
              "</div>\n",
              "</div>\n",
              "<div class=\"card rounded-0 border-bottom-0 border-white\">\n",
              "<div class=\"card-header border-bottom-0\" id=\"headingOne\" role=\"tab\">\n",
              "<a class=\"d-inline \" href=\"/it/percorso/didattica/sezione/bando_master_e_corsi_di_perfezionamento\">Bando Master e Corsi di Perfezionamento</a>\n",
              "<a aria-controls=\"collapse7329\" aria-expanded=\"false\" class=\"collapsed d-inline\" data-parent=\"#accordion\" data-toggle=\"collapse\" href=\"#collapse7329\">\n",
              "<i class=\"las la-times pull-right\"></i>\n",
              "</a>\n",
              "</div>\n",
              "<div aria-labelledby=\"heading7329\" class=\"collapse \" id=\"collapse7329\" role=\"tabpanel\">\n",
              "<div class=\"card-body\">\n",
              "<ul class=\"list-group rounded-0\">\n",
              "<li class=\"list-group-item\"><a class=\"\" href=\"/it/percorso/didattica/sezione/archivio_bando_master_e_corsi_di_perfezionamento\">Archivio Bando Master e Corsi di Perfezionamento</a></li>\n",
              "</ul>\n",
              "</div>\n",
              "</div>\n",
              "</div>\n",
              "<div class=\"card rounded-0 border-bottom-0 border-white\">\n",
              "<div class=\"card-header border-bottom-0\" id=\"headingOne\" role=\"tab\">\n",
              "<a class=\"d-inline \" href=\"/it/percorso/didattica/sezione/elenco_dei_master_suddivisi_per_area\">Elenco dei Master suddivisi per Area</a>\n",
              "</div>\n",
              "</div>\n",
              "<div class=\"card rounded-0 border-bottom-0 border-white\">\n",
              "<div class=\"card-header border-bottom-0\" id=\"headingOne\" role=\"tab\">\n",
              "<a class=\"d-inline \" href=\"/it/percorso/didattica/sezione/corsi_di_laurea_a_titolo_doppio___congiunto___multiplo\">Corsi di laurea a titolo doppio / congiunto / multiplo</a>\n",
              "</div>\n",
              "</div>\n",
              "<div class=\"card rounded-0 border-bottom-0 border-white\">\n",
              "<div class=\"card-header border-bottom-0\" id=\"headingOne\" role=\"tab\">\n",
              "<a class=\"d-inline \" href=\"/it/percorso/didattica/sezione/master_di_primo_livello\">Master di primo livello</a>\n",
              "<a aria-controls=\"collapse4433\" aria-expanded=\"false\" class=\"collapsed d-inline\" data-parent=\"#accordion\" data-toggle=\"collapse\" href=\"#collapse4433\">\n",
              "<i class=\"las la-times pull-right\"></i>\n",
              "</a>\n",
              "</div>\n",
              "<div aria-labelledby=\"heading4433\" class=\"collapse \" id=\"collapse4433\" role=\"tabpanel\">\n",
              "<div class=\"card-body\">\n",
              "<ul class=\"list-group rounded-0\">\n",
              "<li class=\"list-group-item\"><a class=\"\" href=\"/it/percorso/didattica/sezione/agopuntura_clinica_avanzata_e_terapie_manuali_cinesi\">Agopuntura Clinica Avanzata e Terapie Manuali Cinesi</a></li>\n",
              "<li class=\"list-group-item\"><a class=\"\" href=\"/it/percorso/didattica/sezione/amministratore_di_sistemi_informativi_dellrarea_radiologica_e_per_immagini\">Amministratore di sistemi informativi dell’area radiologica e per immagini</a></li>\n",
              "<li class=\"list-group-item\"><a class=\"\" href=\"/it/percorso/didattica/sezione/aspetti_medici_e_legali_del_disturbo_da_gioco_drazzardo_e_del_gioco_responsabile\">Aspetti medici e legali del disturbo da gioco d’azzardo e del gioco responsabile</a></li>\n",
              "<li class=\"list-group-item\"><a class=\"\" href=\"/it/percorso/didattica/sezione/chirurgia_e_medicina_rigenerativa_e_gestione_delle_ferite_complesse\">Chirurgia e medicina rigenerativa e gestione delle ferite complesse</a></li>\n",
              "<li class=\"list-group-item\"><a class=\"\" href=\"/it/percorso/didattica/sezione/cultura_dellralimentazione_e_delle_tradizioni_enogastronomiche\">Cultura dell’alimentazione e delle tradizioni enogastronomiche</a></li>\n",
              "<li class=\"list-group-item\"><a class=\"\" href=\"/it/percorso/didattica/sezione/cura_delle_onicopatie_in_podologia\">Cura delle Onicopatie in Podologia</a></li>\n",
              "<li class=\"list-group-item\"><a class=\"\" href=\"/it/percorso/didattica/sezione/data_science\">Data Science</a></li>\n",
              "<li class=\"list-group-item\"><a class=\"\" href=\"/it/percorso/didattica/sezione/direttore_tecnico_sportivo_nellralta_prestazione\">Direttore Tecnico Sportivo nell’alta prestazione</a></li>\n",
              "<li class=\"list-group-item\"><a class=\"\" href=\"/it/percorso/didattica/sezione/economia_della_cultura__politiche__governo_e_gestione\">Economia della cultura: politiche, governo e gestione</a></li>\n",
              "<li class=\"list-group-item\"><a class=\"\" href=\"/it/percorso/didattica/sezione/economia_e_gestione_immobiliare__megim_\">Economia e Gestione Immobiliare (MEGIM)</a></li>\n",
              "<li class=\"list-group-item\"><a class=\"\" href=\"/it/percorso/didattica/sezione/economia_e_management_della_comunicazione_e_dei_media\">Economia e management della comunicazione e dei media</a></li>\n",
              "<li class=\"list-group-item\"><a class=\"\" href=\"/it/percorso/didattica/sezione/economia_e_management_delle_attivitr_turistiche_e_culturali_-_mematic\">Economia e Management delle Attività Turistiche e Culturali - MEMATIC</a></li>\n",
              "<li class=\"list-group-item\"><a class=\"\" href=\"/it/percorso/didattica/sezione/economia__management_e_innovazione_sociale\">Economia, management e innovazione sociale (MEMIS)</a></li>\n",
              "<li class=\"list-group-item\"><a class=\"\" href=\"/it/percorso/didattica/sezione/fisioterapia_muscoloscheletrica_e_reumatologica\">Fisioterapia muscoloscheletrica e reumatologica</a></li>\n",
              "<li class=\"list-group-item\"><a class=\"\" href=\"/it/percorso/didattica/sezione/fisioterapia_nelle_disfunzioni_del_pavimento_pelvico\">Fisioterapia nelle disfunzioni del pavimento pelvico</a></li>\n",
              "<li class=\"list-group-item\"><a class=\"\" href=\"/it/percorso/didattica/sezione/gestione_clinica_in_chirurgica_cardio-toracica\">Gestione clinica in chirurgica cardio-toracica</a></li>\n",
              "<li class=\"list-group-item\"><a class=\"\" href=\"/it/percorso/didattica/sezione/gestione_della_disabilitr_e_delle_diversitr\">Gestione della disabilità e delle diversità</a></li>\n",
              "<li class=\"list-group-item\"><a class=\"\" href=\"/it/percorso/didattica/sezione/gestione_della_sperimentazione_clinica_in_ematologia_e_oncologia\">Gestione della sperimentazione clinica in ematologia e oncologia</a></li>\n",
              "<li class=\"list-group-item\"><a class=\"\" href=\"/it/percorso/didattica/sezione/gestione_delle_lesioni_della_cute_e_delle_ferite_complesse__wound_care_\">Gestione delle lesioni della cute e delle ferite complesse (Wound Care)</a></li>\n",
              "<li class=\"list-group-item\"><a class=\"\" href=\"/it/percorso/didattica/sezione/gestione_e_tecnica_della_logistica_e_dei_trasporti\">Gestione e tecnica della logistica e dei trasporti</a></li>\n",
              "<li class=\"list-group-item\"><a class=\"\" href=\"/it/percorso/didattica/sezione/indicizzazione_di_documenti_cartacei__multimediali_ed_elettronici_in_ambiente_digitale\">Indicizzazione di documenti cartacei, multimediali ed elettronici in ambiente digitale</a></li>\n",
              "<li class=\"list-group-item\"><a class=\"\" href=\"/it/percorso/didattica/sezione/infermieristica_di_sala_operatoria__endoscopia_e_tecnologie_robotiche\">Infermieristica di sala operatoria, endoscopia e tecnologie robotiche</a></li>\n",
              "<li class=\"list-group-item\"><a class=\"\" href=\"/it/percorso/didattica/sezione/infermieristica_in_area_intensiva_e_dellremergenza\">Infermieristica in area intensiva e dell’emergenza</a></li>\n",
              "<li class=\"list-group-item\"><a class=\"\" href=\"/it/percorso/didattica/sezione/ingegneria_del_suono_e_dello_spettacolo\">Ingegneria del suono e dello spettacolo</a></li>\n",
              "<li class=\"list-group-item\"><a class=\"\" href=\"/it/percorso/didattica/sezione/ingegneria_delle_produzioni_audio\">Ingegneria delle produzioni audio</a></li>\n",
              "<li class=\"list-group-item\"><a class=\"\" href=\"/it/percorso/didattica/sezione/l__intervento_precoce_del_terapista_della_neuropsicomotricitar__tpnee___nell__area_dei_disturbi_neuropsicologici_e_dell_-8187\">L'intervento precoce del terapista della neuropsicomotricita’ (TPNEE)  nell'area dei disturbi neurop</a></li>\n",
              "<li class=\"list-group-item\"><a class=\"\" href=\"/it/percorso/didattica/sezione/le_professioni_economico_contabili\">Le professioni economico contabili</a></li>\n",
              "<li class=\"list-group-item\"><a class=\"\" href=\"/it/percorso/didattica/sezione/lighting_engineering\">Lighting Engineering</a></li>\n",
              "<li class=\"list-group-item\"><a class=\"\" href=\"/it/percorso/didattica/sezione/management_delle_organizzazioni_e_dottrina_sociale_della_chiesa\">Management delle organizzazioni e dottrina sociale della chiesa</a></li>\n",
              "<li class=\"list-group-item\"><a class=\"\" href=\"/it/percorso/didattica/sezione/management_per_le_funzioni_di_coordinamento_delle_professioni_sanitarie\">Management per le funzioni di coordinamento delle professioni sanitarie</a></li>\n",
              "<li class=\"list-group-item\"><a class=\"\" href=\"/it/percorso/didattica/sezione/management_per_le_funzioni_di_coordinamento_in_tecniche_della_prevenzione_e_sicurezza_sul_lavoro\">Management per le funzioni di coordinamento in tecniche della prevenzione e sicurezza sul lavoro</a></li>\n",
              "<li class=\"list-group-item\"><a class=\"\" href=\"/it/percorso/didattica/sezione/marketing_e_management_dello_sport\">Marketing e management dello sport</a></li>\n",
              "<li class=\"list-group-item\"><a class=\"\" href=\"/it/percorso/didattica/sezione/mediatori_del_disagio_penitenziario\">Mediatori del disagio penitenziario</a></li>\n",
              "<li class=\"list-group-item\"><a class=\"\" href=\"/it/percorso/didattica/sezione/medicine_naturali_e_scienze_naturopatiche\">Medicine naturali e scienze naturopatiche</a></li>\n",
              "<li class=\"list-group-item\"><a class=\"\" href=\"/it/percorso/didattica/sezione/metodo_ph__e__souchardr__rieducazione__evoluzione_e_ricerca\">Metodo Ph. E. Souchard®. Rieducazione, Evoluzione e Ricerca</a></li>\n",
              "<li class=\"list-group-item\"><a class=\"\" href=\"/it/percorso/didattica/sezione/musicarterapia_nella_globalitr_dei_linguaggi\">MusicArTerapia nella globalità dei linguaggi</a></li>\n",
              "<li class=\"list-group-item\"><a class=\"\" href=\"/it/percorso/didattica/sezione/nutrizione_e_cosmesi_-_nutrition_and_cosmesis\">Nutrizione e Cosmesi - Nutrition and Cosmesis</a></li>\n",
              "<li class=\"list-group-item\"><a class=\"\" href=\"/it/percorso/didattica/sezione/nutrizione_sostenibile\">Nutrizione sostenibile</a></li>\n",
              "<li class=\"list-group-item\"><a class=\"\" href=\"/it/percorso/didattica/sezione/organizzazione_e_sviluppo_del_capitale_umano_in_ambito_internazionale\">Organizzazione e sviluppo del capitale umano in ambito internazionale</a></li>\n",
              "<li class=\"list-group-item\"><a class=\"\" href=\"/it/percorso/didattica/sezione/ospitalitr_e_marketing_dei_territori\">Ospitalità e marketing dei territori</a></li>\n",
              "<li class=\"list-group-item\"><a class=\"\" href=\"/it/percorso/didattica/sezione/podologia_dello_sport\">Podologia dello Sport</a></li>\n",
              "<li class=\"list-group-item\"><a class=\"\" href=\"/it/percorso/didattica/sezione/podopatia_diabetica__approccio_alla_gestione_multidisciplinare\">Podopatia diabetica: approccio alla gestione multidisciplinare</a></li>\n",
              "<li class=\"list-group-item\"><a class=\"\" href=\"/it/percorso/didattica/sezione/posturologia__ergonomia_e_assistive_technology\">Posturologia, Ergonomia e Assistive Technology</a></li>\n",
              "<li class=\"list-group-item\"><a class=\"\" href=\"/it/percorso/didattica/sezione/progettazione__applicazione__regolamentazione_dei_sistemi_aeromobili_a_pilotaggio_remoto__sapr_\">Progettazione, applicazione, regolamentazione dei sistemi aeromobili a pilotaggio remoto (SAPR)</a></li>\n",
              "<li class=\"list-group-item\"><a class=\"\" href=\"/it/percorso/didattica/sezione/protezione_da_eventi_cbrne_-_protection_against_cbrne__corso_base_\">Protezione da eventi CBRNe - Protection against CBRNe (Corso Base)</a></li>\n",
              "<li class=\"list-group-item\"><a class=\"\" href=\"/it/percorso/didattica/sezione/psiconeuroendocrinoimmunologia_in_prevenzione_e_nutrizione\">Psiconeuroendocrinoimmunologia in prevenzione e nutrizione</a></li>\n",
              "<li class=\"list-group-item\"><a class=\"\" href=\"/it/percorso/didattica/sezione/reportage_di_viaggio_-_travel_photo_report\">Reportage di viaggio - Travel Photo Report</a></li>\n",
              "<li class=\"list-group-item\"><a class=\"\" href=\"/it/percorso/didattica/sezione/ruolo_del_tecnico_sanitario_di_radiologia_medica__tsrm__nella_diagnostica_ed_interventistica_senologica\">Ruolo del tecnico sanitario di radiologia medica(TSRM)nella diagnostica e interventistica senologica</a></li>\n",
              "<li class=\"list-group-item\"><a class=\"\" href=\"/it/percorso/didattica/sezione/management_per_le_funzioni_di_coordinamento_infermieristico_e_per_le_professioni_sanitarie\">Safety e risk management-Funzioni di coord.in tecniche della prev.negli ambienti di vita e di lavor</a></li>\n",
              "<li class=\"list-group-item\"><a class=\"\" href=\"/it/percorso/didattica/sezione/sonic_arts\">Sonic Arts</a></li>\n",
              "<li class=\"list-group-item\"><a class=\"\" href=\"/it/percorso/didattica/sezione/sorveglianza_epidemiologica_e_controllo_delle_infezioni_correlate_allrassistenza_sanitaria\">Sorveglianza epidemiologica e controllo delle infezioni correlate all’assistenza sanitaria</a></li>\n",
              "<li class=\"list-group-item\"><a class=\"\" href=\"/it/percorso/didattica/sezione/stomaterapia_e_riabilitazione_delle_incontinenze_e_uroriabilitazione\">Stomaterapia e riabilitazione delle incontinenze e uroriabilitazione</a></li>\n",
              "<li class=\"list-group-item\"><a class=\"\" href=\"/it/percorso/didattica/sezione/tecniche_di_fisiopatologia_respiratoria-53140\">Tecniche di fisiopatologia respiratoria</a></li>\n",
              "<li class=\"list-group-item\"><a class=\"\" href=\"/it/percorso/didattica/sezione/teoria_e_metodologia_della_preparazione_fisica_nel_calcio\">Teoria e metodologia della preparazione fisica nel calcio</a></li>\n",
              "<li class=\"list-group-item\"><a class=\"\" href=\"/it/percorso/didattica/sezione/teoria_e_tecnica_della_neuromodulazione_terapeutica_centrale_e_periferica_nelle_malattie_neurologiche_e_psichiatriche\">Teoria tecnica neuromodulazione terapeutica centrale e periferica malattie neurologiche psichiatrich</a></li>\n",
              "<li class=\"list-group-item\"><a class=\"\" href=\"/it/percorso/didattica/sezione/terapia_manuale_applicata_alla_fisioterapia\">Terapia manuale applicata alla fisioterapia</a></li>\n",
              "<li class=\"list-group-item\"><a class=\"\" href=\"/it/percorso/didattica/sezione/terapista_dello_sport\">Terapista dello Sport</a></li>\n",
              "<li class=\"list-group-item\"><a class=\"\" href=\"/it/percorso/didattica/sezione/traduzione_audiovisiva_e_adattamento_dialoghi_per_il_doppiaggio_e_la_sottotitolazione\">Traduzione audiovisiva e adattamento dialoghi per il doppiaggio e la sottotitolazione</a></li>\n",
              "</ul>\n",
              "</div>\n",
              "</div>\n",
              "</div>\n",
              "<div class=\"card rounded-0 border-bottom-0 border-white\">\n",
              "<div class=\"card-header border-bottom-0\" id=\"headingOne\" role=\"tab\">\n",
              "<a class=\"d-inline \" href=\"/it/percorso/didattica/sezione/master_di_secondo_livello\">Master di secondo livello</a>\n",
              "<a aria-controls=\"collapse4434\" aria-expanded=\"false\" class=\"collapsed d-inline\" data-parent=\"#accordion\" data-toggle=\"collapse\" href=\"#collapse4434\">\n",
              "<i class=\"las la-times pull-right\"></i>\n",
              "</a>\n",
              "</div>\n",
              "<div aria-labelledby=\"heading4434\" class=\"collapse \" id=\"collapse4434\" role=\"tabpanel\">\n",
              "<div class=\"card-body\">\n",
              "<ul class=\"list-group rounded-0\">\n",
              "<li class=\"list-group-item\"><a class=\"\" href=\"/it/percorso/didattica/sezione/abilitazione_per_le_funzioni_di_medico_competente_ai_sensi_dellrart__38__comma_2__del_d_lgs_n__81_08\">Abilitazione per le funzioni di medico competente ai sensi dell’art. 38, comma 2, del D.Lgs n. 81/08</a></li>\n",
              "<li class=\"list-group-item\"><a class=\"\" href=\"/it/percorso/didattica/sezione/agenti_fisici_e_radioprotezione\">Agenti fisici e radioprotezione</a></li>\n",
              "<li class=\"list-group-item\"><a class=\"\" href=\"/it/percorso/didattica/sezione/allergologia_ed_immunologia_pediatrica_avanzata\">Allergologia ed immunologia pediatrica avanzata</a></li>\n",
              "<li class=\"list-group-item\"><a class=\"\" href=\"/it/percorso/didattica/sezione/anestesiologia_pediatrica\">Anestesiologia pediatrica</a></li>\n",
              "<li class=\"list-group-item\"><a class=\"\" href=\"/it/percorso/didattica/sezione/anticorruzione\">Anticorruzione</a></li>\n",
              "<li class=\"list-group-item\"><a class=\"\" href=\"/it/percorso/didattica/sezione/antitrust_e_regolazione_dei_mercati\">Antitrust e regolazione dei mercati</a></li>\n",
              "<li class=\"list-group-item\"><a class=\"\" href=\"/it/percorso/didattica/sezione/aspetti_clinici_e_organizzativi_nella_gestione_delle_breast_units\">Aspetti clinici e organizzativi nella gestione delle Breast Units</a></li>\n",
              "<li class=\"list-group-item\"><a class=\"\" href=\"/it/percorso/didattica/sezione/big_data_in_business\">Big Data in Business</a></li>\n",
              "<li class=\"list-group-item\"><a class=\"\" href=\"/it/percorso/didattica/sezione/bilancio__audit_e_controlli_nelle_amministrazioni\">Bilancio, audit e controlli nelle amministrazioni</a></li>\n",
              "<li class=\"list-group-item\"><a class=\"\" href=\"/it/percorso/didattica/sezione/business_administration_-_executive\">Business Administration - Executive</a></li>\n",
              "<li class=\"list-group-item\"><a class=\"\" href=\"/it/percorso/didattica/sezione/chirurgia_colorettale_e_delle_m_i_c_i_\">Chirurgia colorettale e delle M.I.C.I.</a></li>\n",
              "<li class=\"list-group-item\"><a class=\"\" href=\"/it/percorso/didattica/sezione/chirurgia_epato-bilio-pancreatica\">Chirurgia Epato-Bilio-Pancreatica</a></li>\n",
              "<li class=\"list-group-item\"><a class=\"\" href=\"/it/percorso/didattica/sezione/chirurgia_morfo-dinamica_del_naso_e_del_ringiovanimento_facciale\">Chirurgia morfo-dinamica del naso e del ringiovanimento facciale</a></li>\n",
              "<li class=\"list-group-item\"><a class=\"\" href=\"/it/percorso/didattica/sezione/chirurgia_neonatale\">Chirurgia neonatale</a></li>\n",
              "<li class=\"list-group-item\"><a class=\"\" href=\"/it/percorso/didattica/sezione/chirurgia_plastica_estetica_del_distretto_facciale\">Chirurgia plastica estetica del distretto facciale</a></li>\n",
              "<li class=\"list-group-item\"><a class=\"\" href=\"/it/percorso/didattica/sezione/citogenetica_e_citogenomica\">Citogenetica e citogenomica</a></li>\n",
              "<li class=\"list-group-item\"><a class=\"\" href=\"/it/percorso/didattica/sezione/citogenetica_e_citogenomica_nella_pratica_clinica_e_nella_medicina_fetale\">Citogenetica e Citogenomica nella pratica clinica e nella medicina fetale</a></li>\n",
              "<li class=\"list-group-item\"><a class=\"\" href=\"/it/percorso/didattica/sezione/commercio_estero_e_internazionalizzazione_d_impresa__ceidim_\">Commercio estero e internazionalizzazione d'impresa (CEIDIM)</a></li>\n",
              "<li class=\"list-group-item\"><a class=\"\" href=\"/it/percorso/didattica/sezione/competenze_digitali_per_la_protezione_dei_dati__la_cybersecurity_e_la_privacy\">Competenze digitali per la protezione dei dati, la cybersecurity e la privacy</a></li>\n",
              "<li class=\"list-group-item\"><a class=\"\" href=\"/it/percorso/didattica/sezione/comunicazione_istituzionale\">Comunicazione istituzionale</a></li>\n",
              "<li class=\"list-group-item\"><a class=\"\" href=\"/it/percorso/didattica/sezione/consulente_per_la_certificazione_e_lr_etichettatura_nutrizionale\">Consulente per la Certificazione e l’Etichettatura Nutrizionale</a></li>\n",
              "<li class=\"list-group-item\"><a class=\"\" href=\"/it/percorso/didattica/sezione/criptovalute__aspetti_giuridici__economici_ed_informatici\">Criptovalute: Aspetti Giuridici, Economici ed Informatici</a></li>\n",
              "<li class=\"list-group-item\"><a class=\"\" href=\"/it/percorso/didattica/sezione/culture_digitali\">Culture digitali</a></li>\n",
              "<li class=\"list-group-item\"><a class=\"\" href=\"/it/percorso/didattica/sezione/customer_experience_e_social_media_analytics_-_cesma\">Customer experience e social media analytics - CESMA</a></li>\n",
              "<li class=\"list-group-item\"><a class=\"\" href=\"/it/percorso/didattica/sezione/customer_experience__statistics__machine_e_artificial_intelligence\">Customer Experience, Statistics, Machine learning e Artificial Intelligence (ex Customer experience </a></li>\n",
              "<li class=\"list-group-item\"><a class=\"\" href=\"/it/percorso/didattica/sezione/dermatologia_pediatrica\">Dermatologia Pediatrica</a></li>\n",
              "<li class=\"list-group-item\"><a class=\"\" href=\"/it/percorso/didattica/sezione/diabetologia\">Diabetologia</a></li>\n",
              "<li class=\"list-group-item\"><a class=\"\" href=\"/it/percorso/didattica/sezione/diagnosi_e_terapia_integrata_della_malattia_di_alzheimer_e_delle_altre_demenze\">Diagnosi e terapia integrata della malattia di Alzheimer e delle altre demenze</a></li>\n",
              "<li class=\"list-group-item\"><a class=\"\" href=\"/it/percorso/didattica/sezione/diagnosi_e_trattamento_dei_disturbi_del_comportamento_alimentare_e_del_peso\">Diagnosi e trattamento dei disturbi del comportamento alimentare e del peso</a></li>\n",
              "<li class=\"list-group-item\"><a class=\"\" href=\"/it/percorso/didattica/sezione/diagnostica_per_immagini_e_radiologia_interventistica_in_pediatria\">Diagnostica per immagini e radiologia interventistica in pediatria</a></li>\n",
              "<li class=\"list-group-item\"><a class=\"\" href=\"/it/percorso/didattica/sezione/diritto_romano_e_sistemi_giuridici_contemporanei\">Diritto romano e sistemi giuridici contemporanei</a></li>\n",
              "<li class=\"list-group-item\"><a class=\"\" href=\"/it/percorso/didattica/sezione/economia_dello_sviluppo_e_cooperazione_internazionale\">Economia dello sviluppo e cooperazione internazionale (MESCI)</a></li>\n",
              "<li class=\"list-group-item\"><a class=\"\" href=\"/it/percorso/didattica/sezione/economia_e_management_della_sanitr\">Economia e management della sanità</a></li>\n",
              "<li class=\"list-group-item\"><a class=\"\" href=\"/it/percorso/didattica/sezione/economia_e_progettazione_europea_dello_sviluppo_territoriale_sostenibile\">Economia e progettazione europea dello sviluppo territoriale sostenibile (MEPE)</a></li>\n",
              "<li class=\"list-group-item\"><a class=\"\" href=\"/it/percorso/didattica/sezione/economia__diritto_e_intercultura_delle_migrazioni\">Economia, diritto e intercultura delle migrazioni</a></li>\n",
              "<li class=\"list-group-item\"><a class=\"\" href=\"/it/percorso/didattica/sezione/economics-39365\">Economics</a></li>\n",
              "<li class=\"list-group-item\"><a class=\"\" href=\"/it/percorso/didattica/sezione/endocrinologia_e_diabetologia_pediatrica\">Endocrinologia e diabetologia pediatrica</a></li>\n",
              "<li class=\"list-group-item\"><a class=\"\" href=\"/it/percorso/didattica/sezione/endodonzia\">Endodonzia</a></li>\n",
              "<li class=\"list-group-item\"><a class=\"\" href=\"/it/percorso/didattica/sezione/endometriosi_e_dolore_pelvico_cronico\">Endometriosi e dolore pelvico cronico</a></li>\n",
              "<li class=\"list-group-item\"><a class=\"\" href=\"/it/percorso/didattica/sezione/epidemiologia_clinica_in_pediatria\">Epidemiologia clinica in pediatria</a></li>\n",
              "<li class=\"list-group-item\"><a class=\"\" href=\"/it/percorso/didattica/sezione/film_and_videogame_music_composition\">Film and Videogame Music Composition</a></li>\n",
              "<li class=\"list-group-item\"><a class=\"\" href=\"/it/percorso/didattica/sezione/fusion_energy_-_science_and_engineering\">Fusion Energy - Science and Engineering</a></li>\n",
              "<li class=\"list-group-item\"><a class=\"\" href=\"/it/percorso/didattica/sezione/genetica_forense\">Genetica forense</a></li>\n",
              "<li class=\"list-group-item\"><a class=\"\" href=\"/it/percorso/didattica/sezione/geoinformazione_e_sistemi_di_informazione_geografica_a_supporto_dei_processi_di_gestione_sostenibile\">Geoinformazione e sistemi di informazione geografica a supporto dei processi di gestione sostenibile</a></li>\n",
              "<li class=\"list-group-item\"><a class=\"\" href=\"/it/percorso/didattica/sezione/geospatial_science___technology_r_geo_-_g_s_t_\">Geospatial Science &amp; Technology – GEO - G.S.T.</a></li>\n",
              "<li class=\"list-group-item\"><a class=\"\" href=\"/it/percorso/didattica/sezione/gestione_dei_beni_confiscati_alle_mafie_rrocco_chinnici_\">Gestione dei beni confiscati alle mafie “Rocco Chinnici\"</a></li>\n",
              "<li class=\"list-group-item\"><a class=\"\" href=\"/it/percorso/didattica/sezione/gestione_dellrictus_in_fase_acuta\">Gestione dell’ictus in fase acuta</a></li>\n",
              "<li class=\"list-group-item\"><a class=\"\" href=\"/it/percorso/didattica/sezione/gestione_e_tecnica_della_logistica_e_dei_trasporti-19176\">Gestione e tecnica della logistica e dei trasporti</a></li>\n",
              "<li class=\"list-group-item\"><a class=\"\" href=\"/it/percorso/didattica/sezione/gestione_informativa_delle_grandi_opere_civili_-__building_information_modelling_and_management\">Gestione informativa delle grandi opere civili -  Building information modelling and management</a></li>\n",
              "<li class=\"list-group-item\"><a class=\"\" href=\"/it/percorso/didattica/sezione/gestione_medica__chirurgica__riabilitativa_del_piede_diabetico_e_coordinamento_del_team_multidiscipl\">Gestione medica, chirurgica, riabilitativa del Piede Diabetico e coordinamento del team multidiscipl</a></li>\n",
              "<li class=\"list-group-item\"><a class=\"\" href=\"/it/percorso/didattica/sezione/governance_strutture_complesse_sanitarie_e_aziendali_per_prevenz_ambientale_e_sicurezza_sul_lavoro\">Governance strutture complesse sanitarie e aziendali per prevenz ambientale e sicurezza sul lavoro</a></li>\n",
              "<li class=\"list-group-item\"><a class=\"\" href=\"/it/percorso/didattica/sezione/implantoprotesi\">Implantoprotesi</a></li>\n",
              "<li class=\"list-group-item\"><a class=\"\" href=\"/it/percorso/didattica/sezione/ingegneria_dellrimpresa_-_business_engineering\">Ingegneria dell’Impresa - Business Engineering</a></li>\n",
              "<li class=\"list-group-item\"><a class=\"\" href=\"/it/percorso/didattica/sezione/ingegneria_e_diritto_internaz__dello_spazio_nei_sistemi_di_comunicaz__navigaz__e_sensing_satellitare\">Ingegneria e diritto internaz. dello spazio nei sistemi di comunicaz.,navigaz. e sensing satellitare</a></li>\n",
              "<li class=\"list-group-item\"><a class=\"\" href=\"/it/percorso/didattica/sezione/ingegneria_e_gestione_dei_trasporti_-_transportation_engineering_and_management\">Ingegneria e gestione dei trasporti - Transportation Engineering and Management</a></li>\n",
              "<li class=\"list-group-item\"><a class=\"\" href=\"/it/percorso/didattica/sezione/ingegneria_per_le_pubbliche_amministrazioni__governance_innovation_and_consulting\">Ingegneria per le Pubbliche Amministrazioni. Governance Innovation and Consulting</a></li>\n",
              "<li class=\"list-group-item\"><a class=\"\" href=\"/it/percorso/didattica/sezione/innovazione_e_management_nelle_amministrazioni_pubbliche\">Innovazione e management nelle amministrazioni pubbliche</a></li>\n",
              "<li class=\"list-group-item\"><a class=\"\" href=\"/it/percorso/didattica/sezione/intelligence_economica_-_economic_intelligence\">Intelligence Economica - Economic Intelligence</a></li>\n",
              "<li class=\"list-group-item\"><a class=\"\" href=\"/it/percorso/didattica/sezione/internet_of_humans_and_things\">Internet of humans and things</a></li>\n",
              "<li class=\"list-group-item\"><a class=\"\" href=\"/it/percorso/didattica/sezione/la_causalitr_tra_medicina_e_giurisprudenza_in_tema_di_lavoro__ambiente_e_salute\">La causalità tra Medicina e Giurisprudenza in tema di lavoro, ambiente e salute</a></li>\n",
              "<li class=\"list-group-item\"><a class=\"\" href=\"/it/percorso/didattica/sezione/la_disciplina_dei_contratti_pubblici\">La disciplina dei contratti pubblici</a></li>\n",
              "<li class=\"list-group-item\"><a class=\"\" href=\"/it/percorso/didattica/sezione/laser_e_altre_sorgenti_di_luce_appl__diagnostiche_e_terapeutiche_in_dermatologia_e_medicina_estetica\">Laser e altre sorgenti di luce:Appl. diagnostiche e terapeutiche in dermatologia e medicina estetica</a></li>\n",
              "<li class=\"list-group-item\"><a class=\"\" href=\"/it/percorso/didattica/sezione/malattie_infettive_in_pediatria\">Malattie Infettive in Pediatria</a></li>\n",
              "<li class=\"list-group-item\"><a class=\"\" href=\"/it/percorso/didattica/sezione/management_degli_approvvigionamenti_e_appalti_pubblici-40240\">Management degli approvvigionamenti e appalti pubblici</a></li>\n",
              "<li class=\"list-group-item\"><a class=\"\" href=\"/it/percorso/didattica/sezione/management_in_biotecnology\">Management in Biotecnology</a></li>\n",
              "<li class=\"list-group-item\"><a class=\"\" href=\"/it/percorso/didattica/sezione/medicina_estetica_r_aesthetic_medicine\">Medicina estetica – Aesthetic Medicine</a></li>\n",
              "<li class=\"list-group-item\"><a class=\"\" href=\"/it/percorso/didattica/sezione/medicina_preventiva_e_di_iniziativa\">Medicina preventiva e di iniziativa</a></li>\n",
              "<li class=\"list-group-item\"><a class=\"\" href=\"/it/percorso/didattica/sezione/neuroestetica\">Neuroestetica</a></li>\n",
              "<li class=\"list-group-item\"><a class=\"\" href=\"/it/percorso/didattica/sezione/neurologia_pediatrica_-_child_neurology\">Neurologia pediatrica - Child Neurology</a></li>\n",
              "<li class=\"list-group-item\"><a class=\"\" href=\"/it/percorso/didattica/sezione/neuropsicoimmunologia_sperimentale_e_clinica\">Neuropsicoimmunologia sperimentale e clinica</a></li>\n",
              "<li class=\"list-group-item\"><a class=\"\" href=\"/it/percorso/didattica/sezione/nuove_tecnologie_per_la_comunicazione__il_cultural_management_e_la_didattica_della_storia_dellrarte\">Nuove tecnologie per la comunicazione, il cultural management e la didattica della storia dell’arte</a></li>\n",
              "<li class=\"list-group-item\"><a class=\"\" href=\"/it/percorso/didattica/sezione/nutrizione_personalizzata__basi_molecolari_e_genetiche\">Nutrizione personalizzata: basi molecolari e genetiche</a></li>\n",
              "<li class=\"list-group-item\"><a class=\"\" href=\"/it/percorso/didattica/sezione/odontoiatria_digitale\">Odontoiatria digitale</a></li>\n",
              "<li class=\"list-group-item\"><a class=\"\" href=\"/it/percorso/didattica/sezione/ortognatodonzia\">Ortognatodonzia</a></li>\n",
              "<li class=\"list-group-item\"><a class=\"\" href=\"/it/percorso/didattica/sezione/processi_decisionali__lobbying_e_disciplina_anticorruzione_in_italia_e_in_europa\">Processi decisionali, lobbying e disciplina anticorruzione in Italia e in Europa</a></li>\n",
              "<li class=\"list-group-item\"><a class=\"\" href=\"/it/percorso/didattica/sezione/procurement_management__approvvigionamenti_e_appalti\">Procurement management. Approvvigionamenti e appalti</a></li>\n",
              "<li class=\"list-group-item\"><a class=\"\" href=\"/it/percorso/didattica/sezione/professione_formatore_in_didattica_delle_scienze\">Professione formatore in didattica delle scienze</a></li>\n",
              "<li class=\"list-group-item\"><a class=\"\" href=\"/it/percorso/didattica/sezione/protezione_da_eventi_cbrne_-_protection_against_cbrne_events__corso_avanzato_\">Protezione da Eventi CBRNe - Protection Against CBRNe Events (Corso Avanzato)</a></li>\n",
              "<li class=\"list-group-item\"><a class=\"\" href=\"/it/percorso/didattica/sezione/psicobiologia_della_nutrizione_e_del_comportamento_alimentare-60199\">Psicobiologia della nutrizione e del comportamento alimentare</a></li>\n",
              "<li class=\"list-group-item\"><a class=\"\" href=\"/it/percorso/didattica/sezione/rendicontazione_innovazione_sostenibilitr\">Rendicontazione innovazione sostenibilità (MARIS)</a></li>\n",
              "<li class=\"list-group-item\"><a class=\"\" href=\"/it/percorso/didattica/sezione/ricerca__innovazione_e_progettazione_nell__unione_europea\">Ricerca, innovazione e progettazione nell'Unione Europea</a></li>\n",
              "<li class=\"list-group-item\"><a class=\"\" href=\"/it/percorso/didattica/sezione/scienza_e_tecnologia_spaziale\">Scienza e tecnologia spaziale</a></li>\n",
              "<li class=\"list-group-item\"><a class=\"\" href=\"/it/percorso/didattica/sezione/senologia_diagnostica_ed_interventistica\">Senologia Diagnostica ed Interventistica</a></li>\n",
              "<li class=\"list-group-item\"><a class=\"\" href=\"/it/percorso/didattica/sezione/sicurezza_internazionale__strategie_globali_e_maxi-emergenze_sanitarie_-_issmm_delta\">Sicurezza internazionale, strategie globali e maxi-emergenze sanitarie - ISSMM delta</a></li>\n",
              "<li class=\"list-group-item\"><a class=\"\" href=\"/it/percorso/didattica/sezione/sindrome_delle_apnee_ostruttive_nel_sonno__aspetti_diagnostici__terapeutici_e_normativi\">Sindrome delle apnee ostruttive nel sonno: aspetti diagnostici, terapeutici e normativi</a></li>\n",
              "<li class=\"list-group-item\"><a class=\"\" href=\"/it/percorso/didattica/sezione/sistemi_e_tecnologie_elettroniche_per_la_sicurezza__la_difesa_e_lrintelligence\">Sistemi e Tecnologie Elettroniche per la Sicurezza, la Difesa e l’Intelligence</a></li>\n",
              "<li class=\"list-group-item\"><a class=\"\" href=\"/it/percorso/didattica/sezione/tecniche_avanzate_di_interventistica_senologica\">Tecniche avanzate di interventistica senologica</a></li>\n",
              "<li class=\"list-group-item\"><a class=\"\" href=\"/it/percorso/didattica/sezione/tecniche_endovascolari\">Tecniche endovascolari</a></li>\n",
              "<li class=\"list-group-item\"><a class=\"\" href=\"/it/percorso/didattica/sezione/tutela_della_privacy_e_data_protection_officer\">Tutela della privacy e Data Protection Officer</a></li>\n",
              "<li class=\"list-group-item\"><a class=\"\" href=\"/it/percorso/didattica/sezione/valutazione_e_gestione_dei_rischi_per_lrambiente__la_salute_e_la_sicurezza\">Valutazione e Gestione dei rischi per l’ambiente, la salute e la sicurezza</a></li>\n",
              "</ul>\n",
              "</div>\n",
              "</div>\n",
              "</div>\n",
              "<div class=\"card rounded-0 border-bottom-0 border-white\">\n",
              "<div class=\"card-header border-bottom-0\" id=\"headingOne\" role=\"tab\">\n",
              "<a class=\"d-inline \" href=\"/it/percorso/didattica/sezione/master_interuniveristari\">Master interuniveristari</a>\n",
              "</div>\n",
              "</div>\n",
              "<div class=\"card rounded-0 border-bottom-0 border-white\">\n",
              "<div class=\"card-header border-bottom-0\" id=\"headingOne\" role=\"tab\">\n",
              "<a class=\"d-inline \" href=\"/it/percorso/didattica/sezione/corsi_di_perfezionamento\">Corsi di perfezionamento</a>\n",
              "<a aria-controls=\"collapse4435\" aria-expanded=\"false\" class=\"collapsed d-inline\" data-parent=\"#accordion\" data-toggle=\"collapse\" href=\"#collapse4435\">\n",
              "<i class=\"las la-times pull-right\"></i>\n",
              "</a>\n",
              "</div>\n",
              "<div aria-labelledby=\"heading4435\" class=\"collapse \" id=\"collapse4435\" role=\"tabpanel\">\n",
              "<div class=\"card-body\">\n",
              "<ul class=\"list-group rounded-0\">\n",
              "<li class=\"list-group-item\"><a class=\"\" href=\"/it/percorso/didattica/sezione/dimissione_e_follow_up_del_neonato_complesso_a_rischio_evolutivo\">Dimissione e follow up del neonato complesso a rischio evolutivo</a></li>\n",
              "<li class=\"list-group-item\"><a class=\"\" href=\"/it/percorso/didattica/sezione/ecografia_clinica_point_of_care_in_pediatria_dellremergenza\">Ecografia clinica Point of Care in pediatria dell’emergenza</a></li>\n",
              "<li class=\"list-group-item\"><a class=\"\" href=\"/it/percorso/didattica/sezione/educazione_terapeutica_nel_bambino_e_nellradolescente_per_la_cura_dellrobesitr_e_delle_sue_complicanze__una_nuova_metodo\">Educazione terapeutica nel bambino e adolescente per la cura dell’obesità e delle sue complicanze</a></li>\n",
              "<li class=\"list-group-item\"><a class=\"\" href=\"/it/percorso/didattica/sezione/elettroencefalografia_pediatrica\">Elettroencefalografia pediatrica</a></li>\n",
              "<li class=\"list-group-item\"><a class=\"\" href=\"/it/percorso/didattica/sezione/etica_e_informatica\">Etica e informatica</a></li>\n",
              "<li class=\"list-group-item\"><a class=\"\" href=\"/it/percorso/didattica/sezione/gestione_dei_tumori_superficiali_della_vescica\">Gestione dei tumori superficiali della vescica</a></li>\n",
              "<li class=\"list-group-item\"><a class=\"\" href=\"/it/percorso/didattica/sezione/impianti_cocleari_e_protesi_implantabili_nel_trattamento_delle_sorditr__dal_bambino_allradulto\">Impianti cocleari e protesi implantabili nel trattamento delle sordità: dal bambino all’adulto</a></li>\n",
              "<li class=\"list-group-item\"><a class=\"\" href=\"/it/percorso/didattica/sezione/infermiere_o_ostetrica_o_di_sala_operatoria\">Infermiere o Ostetrica/o di sala operatoria</a></li>\n",
              "<li class=\"list-group-item\"><a class=\"\" href=\"/it/percorso/didattica/sezione/la_terapia_del_gioco__interventi_ludici_ed_espressivi_per_la_cura_del_bambino\">La terapia del gioco: Interventi ludici ed espressivi per la cura del bambino</a></li>\n",
              "<li class=\"list-group-item\"><a class=\"\" href=\"/it/percorso/didattica/sezione/laserchirurgia_estetica_e_dermatologica\">Laserchirurgia estetica e dermatologica</a></li>\n",
              "<li class=\"list-group-item\"><a class=\"\" href=\"/it/percorso/didattica/sezione/medicina_estetica__il_distretto_facciale\">Medicina Estetica: Il distretto facciale</a></li>\n",
              "<li class=\"list-group-item\"><a class=\"\" href=\"/it/percorso/didattica/sezione/modelli_e_categorie_della_filosofia_contemporanea_models_and_categories_of_contemporary_philosophy\">Modelli e categorie della filosofia contemporanea</a></li>\n",
              "<li class=\"list-group-item\"><a class=\"\" href=\"/it/percorso/didattica/sezione/odontoiatria_restaurativa_estetica\">Odontoiatria restaurativa estetica</a></li>\n",
              "<li class=\"list-group-item\"><a class=\"\" href=\"/it/percorso/didattica/sezione/ortodonzia\">Ortodonzia</a></li>\n",
              "<li class=\"list-group-item\"><a class=\"\" href=\"/it/percorso/didattica/sezione/percorsi_diagnostici_e_terapeutici_delle_anomalie_vascolari_in_pediatria\">Percorsi diagnostici e terapeutici delle anomalie vascolari in pediatria</a></li>\n",
              "<li class=\"list-group-item\"><a class=\"\" href=\"/it/percorso/didattica/sezione/ricerca_clinica_nellradulto_e_in_pediatria_e_suo_sistema_di_qualitr\">Ricerca clinica nell’adulto e in pediatria e suo sistema di qualità</a></li>\n",
              "<li class=\"list-group-item\"><a class=\"\" href=\"/it/percorso/didattica/sezione/security_manager\">Security manager</a></li>\n",
              "<li class=\"list-group-item\"><a class=\"\" href=\"/it/percorso/didattica/sezione/terapia_antiretrovirale\">Terapia antiretrovirale</a></li>\n",
              "<li class=\"list-group-item\"><a class=\"\" href=\"/it/percorso/didattica/sezione/uroriabilitazione\">Uroriabilitazione</a></li>\n",
              "</ul>\n",
              "</div>\n",
              "</div>\n",
              "</div>\n",
              "<div class=\"card rounded-0 border-bottom-0 border-white\">\n",
              "<div class=\"card-header border-bottom-0\" id=\"headingOne\" role=\"tab\">\n",
              "<a class=\"d-inline \" href=\"/it/percorso/didattica/sezione/corsi_di_formazione\">Corsi di formazione</a>\n",
              "</div>\n",
              "</div>\n",
              "<div class=\"card rounded-0 border-bottom-0 border-white\">\n",
              "<div class=\"card-header border-bottom-0\" id=\"headingOne\" role=\"tab\">\n",
              "<a class=\"d-inline \" href=\"/it/percorso/didattica/sezione/centro_linguistico_di_ateneo__cla_\">Centro Linguistico di Ateneo (CLA)</a>\n",
              "</div>\n",
              "</div>\n",
              "<div class=\"card rounded-0 border-bottom-0 border-white\">\n",
              "<div class=\"card-header border-bottom-0\" id=\"headingOne\" role=\"tab\">\n",
              "<a class=\"d-inline \" href=\"/it/percorso/didattica/sezione/corsi_di_lingua_e_cultura_italiana\">Corsi di lingua e cultura italiana</a>\n",
              "</div>\n",
              "</div>\n",
              "<div class=\"card rounded-0 border-bottom-0 border-white\">\n",
              "<div class=\"card-header border-bottom-0\" id=\"headingOne\" role=\"tab\">\n",
              "<a class=\"d-inline \" href=\"http://www.scuolaiad.it/\">Scuola IaD - Istruzione a distanza</a>\n",
              "</div>\n",
              "</div>\n",
              "<div class=\"card rounded-0 border-bottom-0 border-white\">\n",
              "<div class=\"card-header border-bottom-0\" id=\"headingOne\" role=\"tab\">\n",
              "<a class=\"d-inline \" href=\"/it/percorso/didattica/sezione/scuole_di_specializzazione-23501\">Scuole di specializzazione</a>\n",
              "</div>\n",
              "</div>\n",
              "<div class=\"card rounded-0 border-bottom-0 border-white\">\n",
              "<div class=\"card-header border-bottom-0\" id=\"headingOne\" role=\"tab\">\n",
              "<a class=\"d-inline \" href=\"/it/percorso/didattica/sezione/scuola_di_dottorato\">Scuola di Dottorato</a>\n",
              "</div>\n",
              "</div>\n",
              "<div class=\"card rounded-0 border-bottom-0 border-white\">\n",
              "<div class=\"card-header border-bottom-0\" id=\"headingOne\" role=\"tab\">\n",
              "<a class=\"d-inline \" href=\"http://lettere.uniroma2.it/didattica-in-carcere/\">Didattica in carcere</a>\n",
              "</div>\n",
              "</div>\n",
              "<div class=\"card rounded-0 border-bottom-0 border-white\">\n",
              "<div class=\"card-header border-bottom-0\" id=\"headingOne\" role=\"tab\">\n",
              "<a class=\"d-inline \" href=\"//tfa.uniroma2.it/\">Tirocinio Formativo Attivo</a>\n",
              "</div>\n",
              "</div>\n",
              "<div class=\"card rounded-0 border-bottom-0 border-white\">\n",
              "<div class=\"card-header border-bottom-0\" id=\"headingOne\" role=\"tab\">\n",
              "<a class=\"d-inline \" href=\"/it/percorso/didattica/sezione/convenzioni_per_la_didattica\">Convenzioni per la Didattica</a>\n",
              "<a aria-controls=\"collapse6917\" aria-expanded=\"false\" class=\"collapsed d-inline\" data-parent=\"#accordion\" data-toggle=\"collapse\" href=\"#collapse6917\">\n",
              "<i class=\"las la-times pull-right\"></i>\n",
              "</a>\n",
              "</div>\n",
              "<div aria-labelledby=\"heading6917\" class=\"collapse \" id=\"collapse6917\" role=\"tabpanel\">\n",
              "<div class=\"card-body\">\n",
              "<ul class=\"list-group rounded-0\">\n",
              "<li class=\"list-group-item\"><a class=\"\" href=\"/it/percorso/didattica/sezione/convenzioni_per_il_funzionamento_di_master_e_corsi_di_perfezionamento\">Convenzioni per il funzionamento di master e corsi di perfezionamento</a></li>\n",
              "<li class=\"list-group-item\"><a class=\"\" href=\"/it/percorso/didattica/sezione/protocolli_per_il_funzionamento_delle_scuole_di_specializzazione_dellrarea_sanitaria\">Protocolli per il funzionamento delle Scuole di Specializzazione dell’area sanitaria </a></li>\n",
              "<li class=\"list-group-item\"><a class=\"\" href=\"/it/percorso/didattica/sezione/protocolli_per_il_funzionamento_dei_corsi_di_laurea_triennale_di_area_medica\">Protocolli per il funzionamento dei Corsi di Laurea triennale di area medica</a></li>\n",
              "<li class=\"list-group-item\"><a class=\"\" href=\"/it/percorso/didattica/sezione/convenzioni_per_corsi_di_formazione\">Convenzioni per Corsi di formazione </a></li>\n",
              "</ul>\n",
              "</div>\n",
              "</div>\n",
              "</div>\n",
              "</div>\n",
              "</div>\n",
              "<!-- END LEFT MENU --><!-- Section content box -->\n",
              "<div class=\"col-md-9 px-0\" id=\"content\">\n",
              "<div class=\"container\" id=\"section-contents-box\">\n",
              "<div class=\"row mb-3\">\n",
              "<div class=\"col-12 mb-4\">\n",
              "<div class=\"card card-bg rounded-0 shadow h-100\">\n",
              "<div class=\"card-header one-content\">\n",
              "<i class=\"las la-file\"></i>\n",
              "</div>\n",
              "<div class=\"card-body\">\n",
              "<h3 class=\"card-title\">\n",
              "<a class=\"\" href=\"/it/contenuto/informatica_a_a__2021-2022-95844\">\n",
              "                            Informatica a.a. 2021-2022                            </a>\n",
              "</h3>\n",
              "<p class=\"card-text font-italic\">Corso di laurea magistrale - Area di Scienze MM.FF.NN. - Accesso libero con verifica di requisiti e preparazione in ingresso - Classe LM-18 (D.M. 270/2004)</p>\n",
              "<p class=\"card-text\"></p><p><strong>Lingua:</strong> Italiano</p>\n",
              "<p><strong>Informazioni generali</strong></p>\n",
              "<p>o Classe di Laurea: LM (D.M. 270/04)<br/>o Tipologia di corso: Laurea Magistrale<br/>o Durata: 2 anni<br/>o Tipo di accesso: Accesso libero con verifica di requisiti e preparazione in ingresso<br/>o Area di afferenza: Scienze Matematiche, Fisiche e Naturali<br/>o Dipartimento: Ingegneria dell’Impresa Mario Lucertini<br/>o Codice corso: J65</p>\n",
              "<p><strong>Descrizione e obiettivi formativi</strong> <br/>Gli studenti acquisiscono una solida e ampia preparazione culturale rispetto ai fondamenti logico - matematici dell'Informatica; sono in grado di applicare con sicurezza il metodo scientifico; possiedono significative competenze di tipo matematico-computazionale e statistico; padroneggiano con sicurezza le metodologie di rappresentazione, gestione, trattamento e comunicazione dell'informazione tipiche dell'informatica; hanno specifiche capacità per l'analisi e modellazione di problemi complessi e per la loro soluzione attraverso metodi informatici e logico matematici; sono in grado di effettuare la pianificazione, la progettazione, lo sviluppo, la direzione di lavori, la stima, il collaudo e la gestione in sicurezza di impianti e sistemi complessi o innovativi per la generazione, la trasmissione e l'elaborazione delle informazioni.</p>\n",
              "<p><strong>Sbocchi professionali<br/></strong>Il laureato sarà in grado sia di individuare nuovi sviluppi teorici delle discipline informatiche e dei relativi campi di applicazione, sia di operare a livello progettuale e decisionale in tutte le aree dell'informatica, anche in contesti internazionali; svolgerà attività professionali in diversi ambiti, sia nella libera professione, che nell'impresa, nei servizi e nella pubblica amministrazione.<br/>In particolare, al termine degli studi lo studente sarà in grado di ideare e di effettuare la pianificazione, la progettazione, lo sviluppo, la direzione dei lavori, la stima, il collaudo, la definizione delle infrastrutture applicative e di sicurezza su reti eterogenee e la gestione di impianti e sistemi complessi o innovativi per la generazione, la trasmissione, l'estrazione, la protezione, l'archiviazione digitale di documenti e la elaborazione delle informazioni, con specifico riferimento alle informazioni di carattere multimediale, anche quando implichino l'uso di metodologie avanzate innovative e sperimentali e quando i requisiti di sicurezza, privatezza e riservatezza siano prevalenti sugli altri aspetti tecnologici.</p>\n",
              "<p><strong>Condizione occupazionale (indicatori di efficacia e livello di soddisfazione dei laureandi):</strong><br/><a href=\"http://statistiche.almalaurea.it/universita/statistiche/trasparenza?CODICIONE=0580207301900001\" target=\"_blank\">http://statistiche.almalaurea.it/universita/statistiche/trasparenza?CODICIONE=0580207301900001</a></p>\n",
              "<p><strong><strong>Valutazione della didattica - Studenti<br/><a href=\"https://valmon.disia.unifi.it/sisvaldidat/report.php?At=uniroma2&amp;anno=2016&amp;Ind=1&amp;keyf=806&amp;az=a&amp;t=g4&amp;keyc=J65\" target=\"_blank\">Anno accademico precedente</a></strong></strong></p>\n",
              "<p><strong>Riferimenti web e contatti</strong> <br/>Sito Web: <a href=\"http://www.informatica.uniroma2.it/index2.htm\">http://www.informatica.uniroma2.it/index2.htm</a></p>\n",
              "<p><strong>Coordinatore del Corso:</strong> Prof. Roberto Basili<br/>e-mail: <a href=\"mailto:intrigil@mat.uniroma2.it\" target=\"_blank\">intrigil@mat.uniroma2.it</a></p>\n",
              "<p><strong>Segreteria didattica:</strong> <br/>Sig. Francesco Stillitano (Dipartimento Ingegneria dell'Impresa)<br/>tel.: +39 06 7259 7503<br/>email: <a href=\"mailto:segreteriadidattica.informatica@uniroma2.it\" target=\"_blank\">segreteriadidattica.informatica@uniroma2.it</a></p>\n",
              "<p> </p>\n",
              "<a class=\"\" href=\"/it/contenuto/informatica_a_a__2021-2022-95844\">\n",
              "<p class=\"text-right\">Per scaricare gli allegati vai al contenuto <i class=\"las la-arrow-right\"></i></p>\n",
              "</a>\n",
              "</div>\n",
              "</div>\n",
              "</div>\n",
              "</div>\n",
              "</div>\n",
              "<div class=\"container\" id=\"section-sections-box\">\n",
              "<div class=\"row mb-3\">\n",
              "<div class=\"col-sm-3 mb-4\">\n",
              "<a href=\"/it/percorso/didattica/sezione/schede_anni_precedenti-9770\">\n",
              "<div class=\"card card-bg rounded shadow h-100\">\n",
              "<a href=\"/it/percorso/didattica/sezione/schede_anni_precedenti-9770?&gt;\">\n",
              "<div class=\"card-header section-box\">\n",
              "<i class=\"las la-folder\"></i>\n",
              "</div>\n",
              "<div class=\"card-body\">\n",
              "<h3 class=\"card-title\">\n",
              "<a class=\"\" href=\"/it/percorso/didattica/sezione/schede_anni_precedenti-9770\">\n",
              "                                Schede anni precedenti                                </a>\n",
              "</h3>\n",
              "<p class=\"card-text font-italic\">Informatica</p>\n",
              "</div>\n",
              "</a></div>\n",
              "</a>\n",
              "</div>\n",
              "</div>\n",
              "</div>\n",
              "</div>\n",
              "<!-- CONTENT -->\n",
              "</div>\n",
              "</div> <!-- END CONTAINER -->\n",
              "<a class=\"cd-top text-replace js-cd-top cd-top--is-visible cd-top--fade-out\" data-abc=\"true\" href=\"#\" id=\"toTopBtn\"><i class=\"fa fa-chevron-up\"></i></a>\n",
              "<!-- BEGIN: Footer 1 -->\n",
              "<footer>\n",
              "<div class=\"footer footer-grey\" id=\"footer1\">\n",
              "<div class=\"container\">\n",
              "<div class=\"card-deck mb-0\">\n",
              "<div class=\"card border-0\">\n",
              "<div class=\"card-body\">\n",
              "<h3 class=\"card-title\">Campus</h3>\n",
              "<div class=\"list-group\">\n",
              "<a class=\"list-group-item-action\" href=\"/it/percorso/footer_1/sezione/governance\">Governance</a>\n",
              "</div>\n",
              "<div class=\"list-group\">\n",
              "<a class=\"list-group-item-action\" href=\"/it/percorso/footer_1/sezione/macroaree\">Macroaree</a>\n",
              "</div>\n",
              "<div class=\"list-group\">\n",
              "<a class=\"list-group-item-action\" href=\"/it/percorso/campus/sezione/altre_strutture_didattiche_e_di_ricerca\">Elenco strutture</a>\n",
              "</div>\n",
              "<div class=\"list-group\">\n",
              "<a class=\"list-group-item-action\" href=\"http://lettere.uniroma2.it/didattica-in-carcere/\">Didattica in carcere</a>\n",
              "</div>\n",
              "<div class=\"list-group\">\n",
              "<a class=\"list-group-item-action\" href=\"//www.ptvonline.it/\">Policlinico Tor Vergata (PTV)</a>\n",
              "</div>\n",
              "</div>\n",
              "</div>\n",
              "<div class=\"card border-0\">\n",
              "<div class=\"card-body\">\n",
              "<h3 class=\"card-title\">Amministrazione</h3>\n",
              "<div class=\"list-group\">\n",
              "<a class=\"list-group-item-action\" href=\"//amministrazionetrasparente.uniroma2.it/\">Amministrazione Trasparente</a>\n",
              "</div>\n",
              "<div class=\"list-group\">\n",
              "<a class=\"list-group-item-action\" href=\"/it/percorso/ufficio_concorsi\">Concorsi e selezioni</a>\n",
              "</div>\n",
              "<div class=\"list-group\">\n",
              "<a class=\"list-group-item-action\" href=\"https://uniroma2.ubuy.cineca.it/PortaleAppalti/it/homepage.wp\">Bandi di gara</a>\n",
              "</div>\n",
              "<div class=\"list-group\">\n",
              "<a class=\"list-group-item-action\" href=\"/module/name/PdnHome/newlang/italiano/navpath/QTA\">Contratti e controllo qualità</a>\n",
              "</div>\n",
              "<div class=\"list-group\">\n",
              "<a class=\"list-group-item-action\" href=\"/module/name/PdnHome/newlang/italiano/navpath/SVO\">Sviluppo organizzativo</a>\n",
              "</div>\n",
              "</div>\n",
              "</div>\n",
              "<div class=\"card border-0\">\n",
              "<div class=\"card-body\">\n",
              "<h3 class=\"card-title\">Contattaci</h3>\n",
              "<div class=\"list-group\">\n",
              "<a class=\"list-group-item-action\" href=\"http://urp.uniroma2.it/\">Ufficio Relazioni con il Pubblico</a>\n",
              "</div>\n",
              "<div class=\"list-group\">\n",
              "<a class=\"list-group-item-action\" href=\"/it/percorso/footer_1/sezione/numeri_utili_e_link\">Numeri utili, contatti e PEC</a>\n",
              "</div>\n",
              "<div class=\"list-group\">\n",
              "<a class=\"list-group-item-action\" href=\"//directory.uniroma2.it/index.php/chart/cerca\">Rubrica Telefonica</a>\n",
              "</div>\n",
              "<div class=\"list-group\">\n",
              "<a class=\"list-group-item-action\" href=\"/it/percorso/footer_1/sezione/come_raggiungerci-1405\">Come raggiungerci</a>\n",
              "</div>\n",
              "<div class=\"list-group\">\n",
              "<a class=\"list-group-item-action\" href=\"/it/percorso/footer_1/sezione/ufficio_stampa_di_ateneo\">Ufficio Stampa di Ateneo</a>\n",
              "</div>\n",
              "</div>\n",
              "</div>\n",
              "<div class=\"card border-0\">\n",
              "<div class=\"card-body\">\n",
              "<a class=\"btn mb-1 btn-teal btn-lg btn-block\" href=\"/module/name/PdnHome/newlang/italiano/navpath/OFF\" role=\"button\">Offerta formativa</a>\n",
              "<a class=\"btn mb-1 btn-teal btn-lg btn-block\" href=\"http://formazione.insegnanti.uniroma2.it/\" role=\"button\">Formazione insegnanti</a>\n",
              "<a class=\"btn mb-1 btn-teal btn-lg btn-block\" href=\"https://delphi.uniroma2.it/totem/jsp/homeStudenti.jsp?language=IT\" role=\"button\">Iscriviti</a>\n",
              "<a class=\"btn mb-1 btn-teal btn-lg btn-block\" href=\"/it/percorso/social\" role=\"button\">Social di Ateneo</a>\n",
              "</div>\n",
              "</div>\n",
              "</div>\n",
              "</div>\n",
              "</div>\n",
              "<div class=\"footer footer-green navbar container-fluid justify-content-center border-bottom border-white\" id=\"footer2\">\n",
              "<nav class=\"navbar\">\n",
              "<ul class=\"navbar-nav navbar-expand-md\">\n",
              "<li class=\"nav-item mr-3\"><a class=\"nav-link text-muted\" href=\"/module/name/PdnHome/newlang/italiano/navpath/NDV\">Nucleo di Valutazione di Ateneo</a></li>\n",
              "<li class=\"nav-item mr-3\"><a class=\"nav-link text-muted\" href=\"/module/name/PdnHome/navpath/CUG\">Comitato Unico di Garanzia</a></li>\n",
              "<li class=\"nav-item mr-3\"><a class=\"nav-link text-muted\" href=\"/it/percorso/footer_1/sezione/caris_-_servizio_disabilitr\">CARIS - Servizio disabilità</a></li>\n",
              "<li class=\"nav-item mr-3\"><a class=\"nav-link text-muted\" href=\"https://agevola.uniroma2.it/\">Agevola</a></li>\n",
              "<li class=\"nav-item mr-3\"><a class=\"nav-link text-muted\" href=\"//web.pasemplice.eu/PortaleDebitore/02008/80213750583/89B4747DB7DA/index.do\">Pago PA</a></li>\n",
              "<li class=\"nav-item mr-3\"><a class=\"nav-link text-muted\" href=\"/it/percorso/notifiche_per_pubblici_proclami\">Atti di notifica</a></li>\n",
              "<li class=\"nav-item mr-3\"><a class=\"nav-link text-muted\" href=\"/it/percorso/footer_1/sezione/privacy-52094\">Privacy</a></li>\n",
              "<li class=\"nav-item mr-3\">\n",
              "<a class=\"nav-link text-muted\" href=\"#\" id=\"cookie-button\">Cookie</a>\n",
              "</li>\n",
              "</ul>\n",
              "</nav>\n",
              "</div>\n",
              "<div class=\"footer footer-green justify-content-center\" id=\"footer3\">\n",
              "<div class=\"container\">\n",
              "<div class=\"card-deck mb-0\">\n",
              "<div class=\"card border-0\">\n",
              "<div class=\"card-body\">\n",
              "<p> <spam class=\"font-weight-bold text-uppercase\">Università degli studi di Roma Tor Vergata</spam><br/>\n",
              "\t\t\t\t\t\tVia Cracovia n.50 - 00133 Roma<br/>\n",
              "\t\t\t\t\t\tP.I. 02133971008 - C.F. 80213750583<br/>\n",
              "\t\t\t\t\t\t©Copyright 2021\n",
              "\t\t\t\t\t\t</p>\n",
              "<div class=\"mt-2\">\n",
              "<!-- \t\t\t\t\t\t<a class=\"social d-inline-block\" href=\"#\" title=\"facebook\"><i class=\"lab la-facebook-f\"></i></a> -->\n",
              "<!-- \t\t\t\t\t\t<a class=\"social d-inline-block\" href=\"#\" title=\"instagram\"><i class=\"lab la-instagram\"></i></a> -->\n",
              "<!-- \t\t\t\t\t\t<a class=\"social d-inline-block\" href=\"#\" title=\"twitter\"><i class=\"lab la-twitter\"></i></a> -->\n",
              "</div>\n",
              "</div>\n",
              "</div>\n",
              "<div class=\"card border-0\">\n",
              "<div class=\"card-body\">\n",
              "<p class=\"text-right\">\n",
              "<spam class=\"font-weight-bold text-uppercase text-right\">Ufficio relazioni con il pubblico</spam><br/>\n",
              "<i class=\"yellow-text las la-phone\"></i><a href=\"tel:06-7259 3099\">06-7259 3099</a><br/>\n",
              "<i class=\"yellow-text las la-envelope\"></i><a href=\"mailto:relazioni.pubblico@uniroma2.it\">relazioni.pubblico@uniroma2.it</a><br/>\n",
              "<spam class=\"font-italic font-weight-light\">servizio attivo dal lunedí al giovedí dalle 09,00 alle 13,00 e dalle 14,00 alle 17,00\n",
              "\t\t\t\t\t\t\til venerdí dalle 09,00 alle 13,00</spam>\n",
              "</p>\n",
              "<!-- \t\t\t\t\t\t<p class=\"text-right\"> -->\n",
              "<!-- \t\t\t\t\t\t\t<spam class=\"font-weight-bold text-uppercase text-right\">URP Policlinico Tor Vergata</spam><br> -->\n",
              "<!--     \t\t\t\t\t\t<i class=\"yellow-text las la-phone\"></i> -->\n",
              "<!--     \t\t\t\t\t\t<a href=\"tel:0620902020\">06.2090.2020</a><br> -->\n",
              "<!--     \t\t\t\t\t\t<i class=\"yellow-text las la-envelope\"></i> -->\n",
              "<!--     \t\t\t\t\t\t<a href=\"mailto:relazioni.pubblico@ptvonline.it\">relazioni.pubblico@ptvonline.it</a><br> -->\n",
              "<!--     \t\t\t\t\t\t<spam class=\"font-italic\">servizio attivo dal lunedì al venerdì dalle 9.00 alle 14.00</spam> -->\n",
              "<!--     \t\t\t\t\t</p> -->\n",
              "</div>\n",
              "</div>\n",
              "</div>\n",
              "</div>\n",
              "</div>\n",
              "</footer>\n",
              "<!-- END: Footer-->\n",
              "<!-- using online scripts -->\n",
              "<script src=\"/assets/js/jquery-3.6.0.min.js\"></script>\n",
              "<script crossorigin=\"anonymous\" integrity=\"sha384-9/reFTGAW83EW2RDu2S0VKaIzap3H66lZH81PoYlFhbGU+6BZp6G7niu735Sk7lN\" src=\"https://cdn.jsdelivr.net/npm/popper.js@1.16.1/dist/umd/popper.min.js\"></script>\n",
              "<script crossorigin=\"anonymous\" integrity=\"sha384-+YQ4JLhjyBLPDQt//I+STsc9iw4uQqACwlvpslubQzn4u2UU2UFM80nGisd026JF\" src=\"https://cdn.jsdelivr.net/npm/bootstrap@4.6.0/dist/js/bootstrap.min.js\"></script>\n",
              "<script charset=\"utf8\" src=\"https://cdn.datatables.net/1.10.24/js/jquery.dataTables.js\" type=\"text/javascript\"></script>\n",
              "<script src=\"/assets/js/bootstrap-cookie-consent-settings.js\"></script>\n",
              "<script src=\"/assets/js/timeline/horizontal-timeline.js\"></script>\n",
              "<script src=\"/assets/js/main.js\"></script>\n",
              "<script type=\"text/javascript\">\n",
              "    \t// cookie\n",
              "    \tvar cookieSettings = new BootstrapCookieConsentSettings({\n",
              "            contentURL: \"/assets/js/content\",\n",
              "    \t\tlang: navigator.language, // the language, in which the modal is shown\n",
              "        \tlanguages: [\"it\", \"en\"],\n",
              "    \t\tcookieStorageDays: 1,\n",
              "            postSelectionCallback: function () {\n",
              "                location.reload() // reload after selection\n",
              "            }\n",
              "        });\n",
              "    \n",
              "        $(\"#cookie-button\").click(function(e){\n",
              "    \t\te.preventDefault();\n",
              "            cookieSettings.showDialog()\n",
              "       \t});\n",
              "    \n",
              "        $(document).ready(function () {\n",
              "            $(\"#settingsOutput\").text(JSON.stringify(cookieSettings.getSettings()))\n",
              "            $(\"#settingsAnalysisOutput\").text(cookieSettings.getSettings(\"analyses\"))\n",
              "    \n",
              "    \t});\n",
              "    </script>\n",
              "<script type=\"text/javascript\">\n",
              "    \t// matomo\n",
              "    \tif (cookieSettings.getSettings('analyses')) {\n",
              "    \t     var _paq = window._paq || [];\n",
              "             /* tracker methods like \"setCustomDimension\" should be called before \"trackPageView\" */\n",
              "             _paq.push([\"setDomains\", [\"*.web.uniroma2.it\",\"*.web-2021.uniroma2.it\"]]);\n",
              "             _paq.push(['trackPageView']);\n",
              "             _paq.push(['enableLinkTracking']);\n",
              "             (function() {\n",
              "               var u=\"//analytics.web.uniroma2.it/\";\n",
              "               _paq.push(['setTrackerUrl', u+'matomo.php']);\n",
              "               _paq.push(['setSiteId', '2']);\n",
              "               var d=document, g=d.createElement('script'), s=d.getElementsByTagName('script')[0];\n",
              "               g.type='text/javascript'; g.async=true; g.defer=true; g.src=u+'matomo.js'; s.parentNode.insertBefore(g,s);\n",
              "             })();\n",
              "         }\n",
              "    </script>\n",
              "<noscript><p><img alt=\"\" src=\"//analytics.web.uniroma2.it/matomo.php?idsite=2&amp;rec=1\" style=\"border:0;\"/></p></noscript>\n",
              "<!-- End Matomo Code -->\n",
              "</body>\n",
              "</html>"
            ]
          },
          "metadata": {},
          "execution_count": 16
        }
      ]
    },
    {
      "cell_type": "markdown",
      "metadata": {
        "id": "6H9cA7oMBc8J"
      },
      "source": [
        "Find all links in page"
      ]
    },
    {
      "cell_type": "code",
      "metadata": {
        "id": "ZfjxzaUSBdHa"
      },
      "source": [
        "import re\n",
        "\n",
        "urls = re.findall('https?://(?:[-\\w.]|(?:%[\\da-fA-F]{2}))+', str(html))"
      ],
      "execution_count": null,
      "outputs": []
    },
    {
      "cell_type": "code",
      "metadata": {
        "colab": {
          "base_uri": "https://localhost:8080/"
        },
        "id": "wyBfRr3zCGKa",
        "outputId": "79537b23-ae0e-4a32-cc8b-799335a78d57"
      },
      "source": [
        "urls"
      ],
      "execution_count": null,
      "outputs": [
        {
          "output_type": "execute_result",
          "data": {
            "text/plain": [
              "['https://stackpath.bootstrapcdn.com',\n",
              " 'https://cdn.jsdelivr.net',\n",
              " 'https://maxst.icons8.com',\n",
              " 'https://cdn.datatables.net',\n",
              " 'https://web.uniroma2.it',\n",
              " 'https://web.uniroma2.it',\n",
              " 'http://www.w3.org',\n",
              " 'http://www.w3.org',\n",
              " 'http://www.bohemiancoding.com',\n",
              " 'http://www.scuolaiad.it',\n",
              " 'http://lettere.uniroma2.it',\n",
              " 'http://statistiche.almalaurea.it',\n",
              " 'http://statistiche.almalaurea.it',\n",
              " 'https://valmon.disia.unifi.it',\n",
              " 'http://www.informatica.uniroma2.it',\n",
              " 'http://www.informatica.uniroma2.it',\n",
              " 'http://lettere.uniroma2.it',\n",
              " 'https://uniroma2.ubuy.cineca.it',\n",
              " 'http://urp.uniroma2.it',\n",
              " 'http://formazione.insegnanti.uniroma2.it',\n",
              " 'https://delphi.uniroma2.it',\n",
              " 'https://agevola.uniroma2.it',\n",
              " 'https://cdn.jsdelivr.net',\n",
              " 'https://cdn.jsdelivr.net',\n",
              " 'https://cdn.datatables.net']"
            ]
          },
          "metadata": {},
          "execution_count": 18
        }
      ]
    }
  ]
}