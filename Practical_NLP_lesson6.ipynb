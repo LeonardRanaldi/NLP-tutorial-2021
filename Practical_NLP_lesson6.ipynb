{
  "nbformat": 4,
  "nbformat_minor": 0,
  "metadata": {
    "colab": {
      "name": "Practical NLP lesson6.ipynb",
      "provenance": [],
      "collapsed_sections": []
    },
    "kernelspec": {
      "name": "python3",
      "display_name": "Python 3"
    },
    "language_info": {
      "name": "python"
    }
  },
  "cells": [
    {
      "cell_type": "markdown",
      "metadata": {
        "id": "1u0TPu6Bok7H"
      },
      "source": [
        "# today's challenges\n",
        "\n",
        "\n",
        "\n",
        "*   Named Entity Recognition: NER using spaCy vs NER using NLTK\n",
        "*   Part-of-speech tagging: POS using spaCy vs POS using NLTK\n",
        "*   **THE** **REAL** **CHALLENGE**\n",
        "\n",
        "\n"
      ]
    },
    {
      "cell_type": "markdown",
      "metadata": {
        "id": "grhAVBHc_uW2"
      },
      "source": [
        "## POS using spaCy"
      ]
    },
    {
      "cell_type": "code",
      "metadata": {
        "colab": {
          "base_uri": "https://localhost:8080/"
        },
        "id": "Valr5VJ69-p1",
        "outputId": "bc89a13c-49a5-4a41-8a50-2b76b1d6c545"
      },
      "source": [
        "import spacy\n",
        "  \n",
        "# Load English tokenizer, tagger, \n",
        "# parser, NER and word vectors\n",
        "nlp = spacy.load(\"en_core_web_sm\")\n",
        "  \n",
        "# Process whole documents\n",
        "text = \"NASA awarded Elon Musk’s SpaceX a $2.9 billion contract to build the lunar lander.\"\n",
        "  \n",
        "doc = nlp(text)\n",
        "  \n",
        "# Token and Tag\n",
        "for token in doc:\n",
        "  print(token, token.pos_)"
      ],
      "execution_count": null,
      "outputs": [
        {
          "output_type": "stream",
          "name": "stdout",
          "text": [
            "NASA PROPN\n",
            "awarded VERB\n",
            "Elon PROPN\n",
            "Musk PROPN\n",
            "’s PROPN\n",
            "SpaceX VERB\n",
            "a DET\n",
            "$ SYM\n",
            "2.9 NUM\n",
            "billion NUM\n",
            "contract NOUN\n",
            "to PART\n",
            "build VERB\n",
            "the DET\n",
            "lunar ADJ\n",
            "lander NOUN\n",
            ". PUNCT\n"
          ]
        }
      ]
    },
    {
      "cell_type": "code",
      "metadata": {
        "colab": {
          "base_uri": "https://localhost:8080/"
        },
        "id": "J_Zt-SbKAk7p",
        "outputId": "d11cd06f-f78a-4812-9ced-27bcdf0c9ce5"
      },
      "source": [
        "for token in doc:\n",
        "  print(token, token.lemma_)"
      ],
      "execution_count": null,
      "outputs": [
        {
          "output_type": "stream",
          "name": "stdout",
          "text": [
            "NASA NASA\n",
            "awarded award\n",
            "Elon Elon\n",
            "Musk Musk\n",
            "’s ’s\n",
            "SpaceX SpaceX\n",
            "a a\n",
            "$ $\n",
            "2.9 2.9\n",
            "billion billion\n",
            "contract contract\n",
            "to to\n",
            "build build\n",
            "the the\n",
            "lunar lunar\n",
            "lander lander\n",
            ". .\n"
          ]
        }
      ]
    },
    {
      "cell_type": "markdown",
      "metadata": {
        "id": "hOefnf7l_2dL"
      },
      "source": [
        "## POS using NLTK"
      ]
    },
    {
      "cell_type": "code",
      "metadata": {
        "colab": {
          "base_uri": "https://localhost:8080/"
        },
        "id": "vDnUMLiRAymg",
        "outputId": "553f332c-05bc-4308-e790-b9018fdf7a1d"
      },
      "source": [
        "nltk.download('punkt')\n",
        "nltk.download('averaged_perceptron_tagger')\n",
        "nltk.download('maxent_ne_chunker')\n",
        "nltk.download('words')"
      ],
      "execution_count": null,
      "outputs": [
        {
          "output_type": "stream",
          "name": "stdout",
          "text": [
            "[nltk_data] Downloading package punkt to /root/nltk_data...\n",
            "[nltk_data]   Package punkt is already up-to-date!\n",
            "[nltk_data] Downloading package averaged_perceptron_tagger to\n",
            "[nltk_data]     /root/nltk_data...\n",
            "[nltk_data]   Package averaged_perceptron_tagger is already up-to-\n",
            "[nltk_data]       date!\n",
            "[nltk_data] Downloading package maxent_ne_chunker to\n",
            "[nltk_data]     /root/nltk_data...\n",
            "[nltk_data]   Package maxent_ne_chunker is already up-to-date!\n",
            "[nltk_data] Downloading package words to /root/nltk_data...\n",
            "[nltk_data]   Package words is already up-to-date!\n"
          ]
        },
        {
          "output_type": "execute_result",
          "data": {
            "text/plain": [
              "True"
            ]
          },
          "metadata": {},
          "execution_count": 15
        }
      ]
    },
    {
      "cell_type": "code",
      "metadata": {
        "colab": {
          "base_uri": "https://localhost:8080/"
        },
        "id": "B9sMXWJu_5ki",
        "outputId": "8a450e5a-6cb8-4fd4-afd5-5410b3980e29"
      },
      "source": [
        "import nltk\n",
        "from nltk import word_tokenize,pos_tag\n",
        "\n",
        "text = \"NASA awarded Elon Musk’s SpaceX a $2.9 billion contract to build the lunar lander.\"\n",
        "\n",
        "tokens = word_tokenize(text)\n",
        "\n",
        "tag=pos_tag(tokens)\n",
        "\n",
        "for pos in tag:\n",
        "  print(pos[1])\n",
        "\n",
        "#print(tag)"
      ],
      "execution_count": null,
      "outputs": [
        {
          "output_type": "stream",
          "name": "stdout",
          "text": [
            "NNP\n",
            "VBD\n",
            "NNP\n",
            "NNP\n",
            "NNP\n",
            "VBD\n",
            "NNP\n",
            "DT\n",
            "$\n",
            "CD\n",
            "CD\n",
            "NN\n",
            "TO\n",
            "VB\n",
            "DT\n",
            "NN\n",
            "NN\n",
            ".\n"
          ]
        }
      ]
    },
    {
      "cell_type": "markdown",
      "metadata": {
        "id": "fooNccaT9_NX"
      },
      "source": [
        "## NER using spaCy"
      ]
    },
    {
      "cell_type": "code",
      "metadata": {
        "colab": {
          "base_uri": "https://localhost:8080/"
        },
        "id": "VFr4aaPD9jkV",
        "outputId": "6c2ec322-ff4d-4cec-8d21-2c81caee618c"
      },
      "source": [
        "# Perform standard imports \n",
        "import spacy \n",
        "\n",
        "nlp = spacy.load('en_core_web_sm')\n",
        "# Write a function to display basic entity info: \n",
        "def show_ents(doc): \n",
        "  if doc.ents: \n",
        "    for ent in doc.ents: \n",
        "      print(ent.text+' - ' +str(ent.start_char) +' - '+ str(ent.end_char) +' - '+ent.label_+ ' - '+str(spacy.explain(ent.label_))) \n",
        "  else: \n",
        "      print('No named entities found.')\n",
        "\n",
        "\n",
        "doc1 = nlp(\"Apple is looking at buying U.K. startup for $1 billion\") \n",
        "\n",
        "show_ents(doc1)"
      ],
      "execution_count": null,
      "outputs": [
        {
          "output_type": "stream",
          "name": "stdout",
          "text": [
            "Apple - 0 - 5 - ORG - Companies, agencies, institutions, etc.\n",
            "U.K. - 27 - 31 - GPE - Countries, cities, states\n",
            "$1 billion - 44 - 54 - MONEY - Monetary values, including unit\n"
          ]
        }
      ]
    },
    {
      "cell_type": "markdown",
      "metadata": {
        "id": "xHd3Wrm5-Ctc"
      },
      "source": [
        "## NER using NLTK"
      ]
    },
    {
      "cell_type": "code",
      "metadata": {
        "colab": {
          "base_uri": "https://localhost:8080/"
        },
        "id": "an8RHtBm9y5B",
        "outputId": "43b28a1d-7b8a-471a-c302-98b54c96c9a1"
      },
      "source": [
        "import nltk\n",
        "nltk.download('punkt')\n",
        "nltk.download('averaged_perceptron_tagger')\n",
        "nltk.download('maxent_ne_chunker')\n",
        "nltk.download('words')\n",
        "from nltk import word_tokenize,pos_tag\n",
        "\n",
        "text = \"NASA awarded Elon Musk’s SpaceX a $2.9 billion contract to build the lunar lander.\"\n",
        "\n",
        "tokens = word_tokenize(text)\n",
        "\n",
        "tag=pos_tag(tokens)\n",
        "\n",
        "print(tag)\n",
        "\n",
        "ne_tree = nltk.ne_chunk(tag)\n",
        "print(ne_tree)"
      ],
      "execution_count": null,
      "outputs": [
        {
          "output_type": "stream",
          "name": "stdout",
          "text": [
            "[nltk_data] Downloading package punkt to /root/nltk_data...\n",
            "[nltk_data]   Package punkt is already up-to-date!\n",
            "[nltk_data] Downloading package averaged_perceptron_tagger to\n",
            "[nltk_data]     /root/nltk_data...\n",
            "[nltk_data]   Package averaged_perceptron_tagger is already up-to-\n",
            "[nltk_data]       date!\n",
            "[nltk_data] Downloading package maxent_ne_chunker to\n",
            "[nltk_data]     /root/nltk_data...\n",
            "[nltk_data]   Package maxent_ne_chunker is already up-to-date!\n",
            "[nltk_data] Downloading package words to /root/nltk_data...\n",
            "[nltk_data]   Package words is already up-to-date!\n",
            "[('NASA', 'NNP'), ('awarded', 'VBD'), ('Elon', 'NNP'), ('Musk', 'NNP'), ('’', 'NNP'), ('s', 'VBD'), ('SpaceX', 'NNP'), ('a', 'DT'), ('$', '$'), ('2.9', 'CD'), ('billion', 'CD'), ('contract', 'NN'), ('to', 'TO'), ('build', 'VB'), ('the', 'DT'), ('lunar', 'NN'), ('lander', 'NN'), ('.', '.')]\n",
            "(S\n",
            "  (ORGANIZATION NASA/NNP)\n",
            "  awarded/VBD\n",
            "  (PERSON Elon/NNP Musk/NNP)\n",
            "  ’/NNP\n",
            "  s/VBD\n",
            "  (ORGANIZATION SpaceX/NNP)\n",
            "  a/DT\n",
            "  $/$\n",
            "  2.9/CD\n",
            "  billion/CD\n",
            "  contract/NN\n",
            "  to/TO\n",
            "  build/VB\n",
            "  the/DT\n",
            "  lunar/NN\n",
            "  lander/NN\n",
            "  ./.)\n"
          ]
        }
      ]
    },
    {
      "cell_type": "code",
      "metadata": {
        "id": "BdgUT_vv9y_R"
      },
      "source": [
        "import numpy as np\n",
        "import pandas as pd"
      ],
      "execution_count": null,
      "outputs": []
    },
    {
      "cell_type": "markdown",
      "metadata": {
        "id": "itQIn5G7EQra"
      },
      "source": [
        "## Reading Data with pandas"
      ]
    },
    {
      "cell_type": "code",
      "metadata": {
        "id": "uU4oF0a7VoU9"
      },
      "source": [
        "df = pd.read_csv('amazon_rev_pol.csv')"
      ],
      "execution_count": null,
      "outputs": []
    },
    {
      "cell_type": "code",
      "metadata": {
        "colab": {
          "base_uri": "https://localhost:8080/",
          "height": 204
        },
        "id": "U0qWubgFFHKB",
        "outputId": "29374326-6411-4b0b-b1e5-b6eba47f247d"
      },
      "source": [
        "df.head()"
      ],
      "execution_count": null,
      "outputs": [
        {
          "output_type": "execute_result",
          "data": {
            "text/html": [
              "<div>\n",
              "<style scoped>\n",
              "    .dataframe tbody tr th:only-of-type {\n",
              "        vertical-align: middle;\n",
              "    }\n",
              "\n",
              "    .dataframe tbody tr th {\n",
              "        vertical-align: top;\n",
              "    }\n",
              "\n",
              "    .dataframe thead th {\n",
              "        text-align: right;\n",
              "    }\n",
              "</style>\n",
              "<table border=\"1\" class=\"dataframe\">\n",
              "  <thead>\n",
              "    <tr style=\"text-align: right;\">\n",
              "      <th></th>\n",
              "      <th>0</th>\n",
              "      <th>1</th>\n",
              "      <th>2</th>\n",
              "    </tr>\n",
              "  </thead>\n",
              "  <tbody>\n",
              "    <tr>\n",
              "      <th>0</th>\n",
              "      <td>2</td>\n",
              "      <td>An inspirational story about this remarkable w...</td>\n",
              "      <td>Rhonda Gowler Greene's thoroughly \"kid friendl...</td>\n",
              "    </tr>\n",
              "    <tr>\n",
              "      <th>1</th>\n",
              "      <td>2</td>\n",
              "      <td>Deborah Knott books in general</td>\n",
              "      <td>While not a great mystery in general all of th...</td>\n",
              "    </tr>\n",
              "    <tr>\n",
              "      <th>2</th>\n",
              "      <td>1</td>\n",
              "      <td>not enough info</td>\n",
              "      <td>because it wasn't quite clear on which garmin ...</td>\n",
              "    </tr>\n",
              "    <tr>\n",
              "      <th>3</th>\n",
              "      <td>1</td>\n",
              "      <td>It happens.........once again!</td>\n",
              "      <td>This book starts off with an interesting story...</td>\n",
              "    </tr>\n",
              "    <tr>\n",
              "      <th>4</th>\n",
              "      <td>1</td>\n",
              "      <td>Why why why. . .</td>\n",
              "      <td>did they have to mess up a great thing. As the...</td>\n",
              "    </tr>\n",
              "  </tbody>\n",
              "</table>\n",
              "</div>"
            ],
            "text/plain": [
              "   0  ...                                                  2\n",
              "0  2  ...  Rhonda Gowler Greene's thoroughly \"kid friendl...\n",
              "1  2  ...  While not a great mystery in general all of th...\n",
              "2  1  ...  because it wasn't quite clear on which garmin ...\n",
              "3  1  ...  This book starts off with an interesting story...\n",
              "4  1  ...  did they have to mess up a great thing. As the...\n",
              "\n",
              "[5 rows x 3 columns]"
            ]
          },
          "metadata": {},
          "execution_count": 21
        }
      ]
    },
    {
      "cell_type": "code",
      "metadata": {
        "colab": {
          "base_uri": "https://localhost:8080/"
        },
        "id": "LhJA5PIoIWGu",
        "outputId": "3c5bc8fb-b2da-4b7e-c1d8-6e3bf7134a63"
      },
      "source": [
        "a = df.iloc[0]['2']\n",
        "tokens = word_tokenize(a)\n",
        "tag=pos_tag(tokens)\n",
        "tag"
      ],
      "execution_count": null,
      "outputs": [
        {
          "output_type": "execute_result",
          "data": {
            "text/plain": [
              "[('Rhonda', 'NNP'),\n",
              " ('Gowler', 'NNP'),\n",
              " ('Greene', 'NNP'),\n",
              " (\"'s\", 'POS'),\n",
              " ('thoroughly', 'JJ'),\n",
              " ('``', '``'),\n",
              " ('kid', 'FW'),\n",
              " ('friendly', 'RB'),\n",
              " (\"''\", \"''\"),\n",
              " ('text', 'JJ'),\n",
              " ('combines', 'NNS'),\n",
              " ('perfectly', 'RB'),\n",
              " ('with', 'IN'),\n",
              " ('the', 'DT'),\n",
              " ('joyous', 'JJ'),\n",
              " ('illustrations', 'NNS'),\n",
              " ('of', 'IN'),\n",
              " ('Janet', 'NNP'),\n",
              " ('Broxon', 'NNP'),\n",
              " ('in', 'IN'),\n",
              " ('Sing', 'NNP'),\n",
              " ('Praise', 'NNP'),\n",
              " (',', ','),\n",
              " ('a', 'DT'),\n",
              " ('creative', 'JJ'),\n",
              " ('and', 'CC'),\n",
              " ('informative', 'JJ'),\n",
              " ('picturebook', 'NN'),\n",
              " ('exploring', 'VBG'),\n",
              " ('the', 'DT'),\n",
              " ('world', 'NN'),\n",
              " ('which', 'WDT'),\n",
              " ('God', 'NNP'),\n",
              " ('has', 'VBZ'),\n",
              " ('provided', 'VBN'),\n",
              " ('us', 'PRP'),\n",
              " ('.', '.'),\n",
              " ('Carrying', 'VBG'),\n",
              " ('young', 'JJ'),\n",
              " ('readers', 'NNS'),\n",
              " ('through', 'IN'),\n",
              " ('a', 'DT'),\n",
              " ('triumphant', 'JJ'),\n",
              " ('collection', 'NN'),\n",
              " ('of', 'IN'),\n",
              " ('the', 'DT'),\n",
              " ('wonderful', 'JJ'),\n",
              " ('creations', 'NNS'),\n",
              " ('of', 'IN'),\n",
              " ('the', 'DT'),\n",
              " ('Lord', 'NNP'),\n",
              " (',', ','),\n",
              " ('Sing', 'NNP'),\n",
              " ('Praise', 'NNP'),\n",
              " ('offers', 'VBZ'),\n",
              " ('an', 'DT'),\n",
              " ('entertaining', 'JJ'),\n",
              " ('perspective', 'NN'),\n",
              " ('into', 'IN'),\n",
              " ('the', 'DT'),\n",
              " ('love', 'NN'),\n",
              " (',', ','),\n",
              " ('unity', 'NN'),\n",
              " (',', ','),\n",
              " ('beauty', 'NN'),\n",
              " (',', ','),\n",
              " ('and', 'CC'),\n",
              " ('flourishing', 'VBG'),\n",
              " ('truths', 'NNS'),\n",
              " ('of', 'IN'),\n",
              " ('God', 'NNP'),\n",
              " (\"'s\", 'POS'),\n",
              " ('creations', 'NNS'),\n",
              " ('.', '.'),\n",
              " ('Sing', 'VBG'),\n",
              " ('Praise', 'NNP'),\n",
              " ('is', 'VBZ'),\n",
              " ('very', 'RB'),\n",
              " ('highly', 'RB'),\n",
              " ('recommended', 'VBN'),\n",
              " ('for', 'IN'),\n",
              " ('all', 'DT'),\n",
              " ('young', 'JJ'),\n",
              " ('readers', 'NNS'),\n",
              " ('and', 'CC'),\n",
              " ('their', 'PRP$'),\n",
              " ('parents', 'NNS'),\n",
              " ('searching', 'VBG'),\n",
              " ('for', 'IN'),\n",
              " ('an', 'DT'),\n",
              " ('inspirational', 'JJ'),\n",
              " ('story', 'NN'),\n",
              " ('about', 'IN'),\n",
              " ('this', 'DT'),\n",
              " ('remarkable', 'JJ'),\n",
              " ('world', 'NN'),\n",
              " ('for', 'IN'),\n",
              " ('which', 'WDT'),\n",
              " ('we', 'PRP'),\n",
              " ('have', 'VBP'),\n",
              " ('God', 'NNP'),\n",
              " ('thank', 'NN'),\n",
              " ('.', '.')]"
            ]
          },
          "metadata": {},
          "execution_count": 48
        }
      ]
    },
    {
      "cell_type": "code",
      "metadata": {
        "colab": {
          "base_uri": "https://localhost:8080/"
        },
        "id": "gKh9D2ONFRqC",
        "outputId": "87e1421b-3df5-4685-f05a-093c698be2c3"
      },
      "source": [
        "df['1']"
      ],
      "execution_count": null,
      "outputs": [
        {
          "output_type": "execute_result",
          "data": {
            "text/plain": [
              "0        An inspirational story about this remarkable w...\n",
              "1                           Deborah Knott books in general\n",
              "2                                          not enough info\n",
              "3                           It happens.........once again!\n",
              "4                                         Why why why. . .\n",
              "                               ...                        \n",
              "19995                            dime a dozen american dnb\n",
              "19996                                            humm. . .\n",
              "19997          What? Are people still buying this baloney?\n",
              "19998    BUYER BEWARE: Bad product, incompetent manufac...\n",
              "19999                                                Junk!\n",
              "Name: 1, Length: 20000, dtype: object"
            ]
          },
          "metadata": {},
          "execution_count": 24
        }
      ]
    },
    {
      "cell_type": "markdown",
      "metadata": {
        "id": "kFBFmX8uEVp8"
      },
      "source": [
        "## construction of POS for each example in the dataset"
      ]
    },
    {
      "cell_type": "code",
      "metadata": {
        "id": "Q6a3Is2GU0PI"
      },
      "source": [
        "list_review = df['2']"
      ],
      "execution_count": null,
      "outputs": []
    },
    {
      "cell_type": "code",
      "metadata": {
        "id": "voqZ5YnDF2cc"
      },
      "source": [
        "def sentences_to_POS_NLTK(list_of_sentences):\n",
        "  list_of_POS = []\n",
        "  for sentence in list_of_sentences:\n",
        "    pos_sentence = ''\n",
        "    tokens = word_tokenize(sentence)\n",
        "    tag=pos_tag(tokens)\n",
        "\n",
        "    for pos in tag:\n",
        "      pos_sentence = pos_sentence+pos[1]+' '\n",
        "\n",
        "    list_of_POS.append(pos_sentence)\n",
        "  return list_of_POS"
      ],
      "execution_count": null,
      "outputs": []
    },
    {
      "cell_type": "code",
      "metadata": {
        "id": "SUCrO3ogUMPn"
      },
      "source": [
        "def sentences_to_POS_spaCy(list_of_sentences):\n",
        "  ####...TO DO....\n",
        "  return 0"
      ],
      "execution_count": null,
      "outputs": []
    },
    {
      "cell_type": "code",
      "metadata": {
        "id": "6DKKqqsmHFEF"
      },
      "source": [
        "list_review_POS_NLTK = sentences_to_POS(list_review)"
      ],
      "execution_count": null,
      "outputs": []
    },
    {
      "cell_type": "markdown",
      "metadata": {
        "id": "lZ7F8bwpEijl"
      },
      "source": [
        "## Splitting Dataset\n",
        "\n",
        "**hints** (Lesson 2, Lesson 3, Lesson 4)"
      ]
    },
    {
      "cell_type": "code",
      "metadata": {
        "id": "A_QeSN2rgp0X"
      },
      "source": [
        ""
      ],
      "execution_count": null,
      "outputs": []
    },
    {
      "cell_type": "markdown",
      "metadata": {
        "id": "5oYnIPi0En5y"
      },
      "source": [
        "## Vectorization \n",
        "\n",
        "**hints** (Lesson 3 (Tf-Idf), Lesson 4 (other type))"
      ]
    },
    {
      "cell_type": "code",
      "metadata": {
        "id": "OCVrzqM4Ey79"
      },
      "source": [
        ""
      ],
      "execution_count": null,
      "outputs": []
    },
    {
      "cell_type": "markdown",
      "metadata": {
        "id": "heKw7winEzOA"
      },
      "source": [
        "## Models\n",
        "\n",
        "**hints** (Lesson 2, Lesson 3, Lesson 4)"
      ]
    },
    {
      "cell_type": "code",
      "metadata": {
        "id": "P-SM2ylVUFVq"
      },
      "source": [
        ""
      ],
      "execution_count": null,
      "outputs": []
    }
  ]
}